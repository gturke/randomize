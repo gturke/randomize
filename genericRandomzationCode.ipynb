{
 "cells": [
  {
   "cell_type": "markdown",
   "metadata": {},
   "source": [
    "# Test Annie's Code"
   ]
  },
  {
   "cell_type": "code",
   "execution_count": 1,
   "metadata": {
    "collapsed": false
   },
   "outputs": [
    {
     "name": "stdout",
     "output_type": "stream",
     "text": [
      "example-wilks.do             genericRandomzationCode.ipynb  README.txt\r\n",
      "genericRandomizationCode.py  rand.py\r\n"
     ]
    }
   ],
   "source": [
    "ls"
   ]
  },
  {
   "cell_type": "code",
   "execution_count": 7,
   "metadata": {
    "collapsed": false
   },
   "outputs": [],
   "source": [
    "from rand import Randomize"
   ]
  },
  {
   "cell_type": "code",
   "execution_count": 8,
   "metadata": {
    "collapsed": false
   },
   "outputs": [
    {
     "name": "stdout",
     "output_type": "stream",
     "text": [
      "Treatment distrib did not add to 1, rescaled to [0.33333333333333331, 0.33333333333333331, 0.33333333333333331]\n"
     ]
    }
   ],
   "source": [
    "if __name__ == '__main__':\n",
    "    # AMS: Why is strata defined this way?\n",
    "    # AMS: Asssumes knowledge of number of observations in file.\n",
    "    strata = [1] * 100 + [2] * 101 + [3] * 30\n",
    "    x = Randomize(strata=strata,\n",
    "                  treat_distrib=[0.25, 0.25, 0.25],\n",
    "                  seed=628491)\n",
    "    assign = x.strat_rand()"
   ]
  },
  {
   "cell_type": "code",
   "execution_count": 9,
   "metadata": {
    "collapsed": false
   },
   "outputs": [
    {
     "data": {
      "text/html": [
       "<div>\n",
       "<table border=\"1\" class=\"dataframe\">\n",
       "  <thead>\n",
       "    <tr style=\"text-align: right;\">\n",
       "      <th></th>\n",
       "      <th></th>\n",
       "      <th></th>\n",
       "      <th></th>\n",
       "      <th></th>\n",
       "      <th></th>\n",
       "      <th></th>\n",
       "      <th></th>\n",
       "      <th></th>\n",
       "      <th></th>\n",
       "      <th></th>\n",
       "      <th></th>\n",
       "      <th></th>\n",
       "      <th></th>\n",
       "      <th></th>\n",
       "      <th></th>\n",
       "      <th></th>\n",
       "      <th></th>\n",
       "      <th></th>\n",
       "      <th></th>\n",
       "      <th></th>\n",
       "      <th></th>\n",
       "      <th></th>\n",
       "      <th></th>\n",
       "      <th></th>\n",
       "      <th></th>\n",
       "      <th></th>\n",
       "      <th></th>\n",
       "      <th></th>\n",
       "      <th></th>\n",
       "      <th></th>\n",
       "      <th></th>\n",
       "      <th></th>\n",
       "      <th></th>\n",
       "      <th></th>\n",
       "      <th></th>\n",
       "      <th></th>\n",
       "      <th></th>\n",
       "      <th></th>\n",
       "      <th></th>\n",
       "      <th></th>\n",
       "      <th></th>\n",
       "      <th></th>\n",
       "      <th></th>\n",
       "      <th></th>\n",
       "      <th></th>\n",
       "      <th></th>\n",
       "      <th></th>\n",
       "      <th></th>\n",
       "      <th></th>\n",
       "      <th></th>\n",
       "      <th></th>\n",
       "      <th></th>\n",
       "      <th></th>\n",
       "      <th></th>\n",
       "      <th></th>\n",
       "      <th></th>\n",
       "      <th></th>\n",
       "      <th></th>\n",
       "      <th></th>\n",
       "      <th></th>\n",
       "      <th></th>\n",
       "      <th></th>\n",
       "      <th></th>\n",
       "      <th></th>\n",
       "      <th></th>\n",
       "      <th></th>\n",
       "      <th></th>\n",
       "      <th></th>\n",
       "      <th></th>\n",
       "      <th></th>\n",
       "      <th></th>\n",
       "      <th></th>\n",
       "      <th></th>\n",
       "      <th></th>\n",
       "      <th></th>\n",
       "      <th></th>\n",
       "      <th></th>\n",
       "      <th></th>\n",
       "      <th></th>\n",
       "      <th></th>\n",
       "      <th></th>\n",
       "      <th></th>\n",
       "      <th></th>\n",
       "      <th></th>\n",
       "      <th></th>\n",
       "      <th></th>\n",
       "      <th></th>\n",
       "      <th></th>\n",
       "      <th></th>\n",
       "      <th></th>\n",
       "      <th></th>\n",
       "      <th></th>\n",
       "      <th></th>\n",
       "      <th></th>\n",
       "      <th></th>\n",
       "      <th></th>\n",
       "      <th></th>\n",
       "      <th></th>\n",
       "      <th></th>\n",
       "      <th></th>\n",
       "      <th></th>\n",
       "      <th></th>\n",
       "      <th></th>\n",
       "      <th></th>\n",
       "      <th></th>\n",
       "      <th></th>\n",
       "      <th></th>\n",
       "      <th></th>\n",
       "      <th></th>\n",
       "      <th></th>\n",
       "      <th></th>\n",
       "      <th></th>\n",
       "      <th></th>\n",
       "      <th></th>\n",
       "      <th></th>\n",
       "      <th></th>\n",
       "      <th></th>\n",
       "      <th></th>\n",
       "      <th></th>\n",
       "      <th></th>\n",
       "      <th></th>\n",
       "      <th></th>\n",
       "      <th></th>\n",
       "      <th></th>\n",
       "      <th></th>\n",
       "      <th></th>\n",
       "      <th></th>\n",
       "      <th></th>\n",
       "      <th></th>\n",
       "      <th></th>\n",
       "      <th></th>\n",
       "      <th></th>\n",
       "      <th></th>\n",
       "      <th></th>\n",
       "      <th></th>\n",
       "      <th></th>\n",
       "      <th></th>\n",
       "      <th></th>\n",
       "      <th></th>\n",
       "      <th></th>\n",
       "      <th></th>\n",
       "      <th></th>\n",
       "      <th></th>\n",
       "      <th></th>\n",
       "      <th></th>\n",
       "      <th></th>\n",
       "      <th></th>\n",
       "      <th></th>\n",
       "      <th></th>\n",
       "      <th></th>\n",
       "      <th></th>\n",
       "      <th></th>\n",
       "      <th></th>\n",
       "      <th></th>\n",
       "      <th></th>\n",
       "      <th></th>\n",
       "      <th></th>\n",
       "      <th></th>\n",
       "      <th></th>\n",
       "      <th></th>\n",
       "      <th></th>\n",
       "      <th></th>\n",
       "      <th></th>\n",
       "      <th></th>\n",
       "      <th></th>\n",
       "      <th></th>\n",
       "      <th></th>\n",
       "      <th></th>\n",
       "      <th></th>\n",
       "      <th></th>\n",
       "      <th></th>\n",
       "      <th></th>\n",
       "      <th></th>\n",
       "      <th></th>\n",
       "      <th></th>\n",
       "      <th></th>\n",
       "      <th></th>\n",
       "      <th></th>\n",
       "      <th></th>\n",
       "      <th></th>\n",
       "      <th></th>\n",
       "      <th></th>\n",
       "      <th></th>\n",
       "      <th></th>\n",
       "      <th></th>\n",
       "      <th></th>\n",
       "      <th></th>\n",
       "      <th></th>\n",
       "      <th></th>\n",
       "      <th></th>\n",
       "      <th></th>\n",
       "      <th></th>\n",
       "      <th></th>\n",
       "      <th></th>\n",
       "      <th></th>\n",
       "      <th></th>\n",
       "      <th></th>\n",
       "      <th></th>\n",
       "      <th></th>\n",
       "      <th></th>\n",
       "      <th></th>\n",
       "      <th></th>\n",
       "      <th></th>\n",
       "      <th></th>\n",
       "      <th></th>\n",
       "      <th></th>\n",
       "      <th></th>\n",
       "      <th></th>\n",
       "      <th></th>\n",
       "      <th></th>\n",
       "      <th></th>\n",
       "      <th></th>\n",
       "      <th></th>\n",
       "      <th></th>\n",
       "      <th></th>\n",
       "      <th></th>\n",
       "      <th></th>\n",
       "      <th></th>\n",
       "      <th></th>\n",
       "      <th></th>\n",
       "      <th></th>\n",
       "      <th></th>\n",
       "      <th></th>\n",
       "      <th></th>\n",
       "      <th></th>\n",
       "      <th></th>\n",
       "      <th></th>\n",
       "      <th></th>\n",
       "      <th></th>\n",
       "      <th>col_0</th>\n",
       "      <th>0</th>\n",
       "      <th>1</th>\n",
       "      <th>2</th>\n",
       "    </tr>\n",
       "    <tr>\n",
       "      <th>row_0</th>\n",
       "      <th>row_1</th>\n",
       "      <th>row_2</th>\n",
       "      <th>row_3</th>\n",
       "      <th>row_4</th>\n",
       "      <th>row_5</th>\n",
       "      <th>row_6</th>\n",
       "      <th>row_7</th>\n",
       "      <th>row_8</th>\n",
       "      <th>row_9</th>\n",
       "      <th>row_10</th>\n",
       "      <th>row_11</th>\n",
       "      <th>row_12</th>\n",
       "      <th>row_13</th>\n",
       "      <th>row_14</th>\n",
       "      <th>row_15</th>\n",
       "      <th>row_16</th>\n",
       "      <th>row_17</th>\n",
       "      <th>row_18</th>\n",
       "      <th>row_19</th>\n",
       "      <th>row_20</th>\n",
       "      <th>row_21</th>\n",
       "      <th>row_22</th>\n",
       "      <th>row_23</th>\n",
       "      <th>row_24</th>\n",
       "      <th>row_25</th>\n",
       "      <th>row_26</th>\n",
       "      <th>row_27</th>\n",
       "      <th>row_28</th>\n",
       "      <th>row_29</th>\n",
       "      <th>row_30</th>\n",
       "      <th>row_31</th>\n",
       "      <th>row_32</th>\n",
       "      <th>row_33</th>\n",
       "      <th>row_34</th>\n",
       "      <th>row_35</th>\n",
       "      <th>row_36</th>\n",
       "      <th>row_37</th>\n",
       "      <th>row_38</th>\n",
       "      <th>row_39</th>\n",
       "      <th>row_40</th>\n",
       "      <th>row_41</th>\n",
       "      <th>row_42</th>\n",
       "      <th>row_43</th>\n",
       "      <th>row_44</th>\n",
       "      <th>row_45</th>\n",
       "      <th>row_46</th>\n",
       "      <th>row_47</th>\n",
       "      <th>row_48</th>\n",
       "      <th>row_49</th>\n",
       "      <th>row_50</th>\n",
       "      <th>row_51</th>\n",
       "      <th>row_52</th>\n",
       "      <th>row_53</th>\n",
       "      <th>row_54</th>\n",
       "      <th>row_55</th>\n",
       "      <th>row_56</th>\n",
       "      <th>row_57</th>\n",
       "      <th>row_58</th>\n",
       "      <th>row_59</th>\n",
       "      <th>row_60</th>\n",
       "      <th>row_61</th>\n",
       "      <th>row_62</th>\n",
       "      <th>row_63</th>\n",
       "      <th>row_64</th>\n",
       "      <th>row_65</th>\n",
       "      <th>row_66</th>\n",
       "      <th>row_67</th>\n",
       "      <th>row_68</th>\n",
       "      <th>row_69</th>\n",
       "      <th>row_70</th>\n",
       "      <th>row_71</th>\n",
       "      <th>row_72</th>\n",
       "      <th>row_73</th>\n",
       "      <th>row_74</th>\n",
       "      <th>row_75</th>\n",
       "      <th>row_76</th>\n",
       "      <th>row_77</th>\n",
       "      <th>row_78</th>\n",
       "      <th>row_79</th>\n",
       "      <th>row_80</th>\n",
       "      <th>row_81</th>\n",
       "      <th>row_82</th>\n",
       "      <th>row_83</th>\n",
       "      <th>row_84</th>\n",
       "      <th>row_85</th>\n",
       "      <th>row_86</th>\n",
       "      <th>row_87</th>\n",
       "      <th>row_88</th>\n",
       "      <th>row_89</th>\n",
       "      <th>row_90</th>\n",
       "      <th>row_91</th>\n",
       "      <th>row_92</th>\n",
       "      <th>row_93</th>\n",
       "      <th>row_94</th>\n",
       "      <th>row_95</th>\n",
       "      <th>row_96</th>\n",
       "      <th>row_97</th>\n",
       "      <th>row_98</th>\n",
       "      <th>row_99</th>\n",
       "      <th>row_100</th>\n",
       "      <th>row_101</th>\n",
       "      <th>row_102</th>\n",
       "      <th>row_103</th>\n",
       "      <th>row_104</th>\n",
       "      <th>row_105</th>\n",
       "      <th>row_106</th>\n",
       "      <th>row_107</th>\n",
       "      <th>row_108</th>\n",
       "      <th>row_109</th>\n",
       "      <th>row_110</th>\n",
       "      <th>row_111</th>\n",
       "      <th>row_112</th>\n",
       "      <th>row_113</th>\n",
       "      <th>row_114</th>\n",
       "      <th>row_115</th>\n",
       "      <th>row_116</th>\n",
       "      <th>row_117</th>\n",
       "      <th>row_118</th>\n",
       "      <th>row_119</th>\n",
       "      <th>row_120</th>\n",
       "      <th>row_121</th>\n",
       "      <th>row_122</th>\n",
       "      <th>row_123</th>\n",
       "      <th>row_124</th>\n",
       "      <th>row_125</th>\n",
       "      <th>row_126</th>\n",
       "      <th>row_127</th>\n",
       "      <th>row_128</th>\n",
       "      <th>row_129</th>\n",
       "      <th>row_130</th>\n",
       "      <th>row_131</th>\n",
       "      <th>row_132</th>\n",
       "      <th>row_133</th>\n",
       "      <th>row_134</th>\n",
       "      <th>row_135</th>\n",
       "      <th>row_136</th>\n",
       "      <th>row_137</th>\n",
       "      <th>row_138</th>\n",
       "      <th>row_139</th>\n",
       "      <th>row_140</th>\n",
       "      <th>row_141</th>\n",
       "      <th>row_142</th>\n",
       "      <th>row_143</th>\n",
       "      <th>row_144</th>\n",
       "      <th>row_145</th>\n",
       "      <th>row_146</th>\n",
       "      <th>row_147</th>\n",
       "      <th>row_148</th>\n",
       "      <th>row_149</th>\n",
       "      <th>row_150</th>\n",
       "      <th>row_151</th>\n",
       "      <th>row_152</th>\n",
       "      <th>row_153</th>\n",
       "      <th>row_154</th>\n",
       "      <th>row_155</th>\n",
       "      <th>row_156</th>\n",
       "      <th>row_157</th>\n",
       "      <th>row_158</th>\n",
       "      <th>row_159</th>\n",
       "      <th>row_160</th>\n",
       "      <th>row_161</th>\n",
       "      <th>row_162</th>\n",
       "      <th>row_163</th>\n",
       "      <th>row_164</th>\n",
       "      <th>row_165</th>\n",
       "      <th>row_166</th>\n",
       "      <th>row_167</th>\n",
       "      <th>row_168</th>\n",
       "      <th>row_169</th>\n",
       "      <th>row_170</th>\n",
       "      <th>row_171</th>\n",
       "      <th>row_172</th>\n",
       "      <th>row_173</th>\n",
       "      <th>row_174</th>\n",
       "      <th>row_175</th>\n",
       "      <th>row_176</th>\n",
       "      <th>row_177</th>\n",
       "      <th>row_178</th>\n",
       "      <th>row_179</th>\n",
       "      <th>row_180</th>\n",
       "      <th>row_181</th>\n",
       "      <th>row_182</th>\n",
       "      <th>row_183</th>\n",
       "      <th>row_184</th>\n",
       "      <th>row_185</th>\n",
       "      <th>row_186</th>\n",
       "      <th>row_187</th>\n",
       "      <th>row_188</th>\n",
       "      <th>row_189</th>\n",
       "      <th>row_190</th>\n",
       "      <th>row_191</th>\n",
       "      <th>row_192</th>\n",
       "      <th>row_193</th>\n",
       "      <th>row_194</th>\n",
       "      <th>row_195</th>\n",
       "      <th>row_196</th>\n",
       "      <th>row_197</th>\n",
       "      <th>row_198</th>\n",
       "      <th>row_199</th>\n",
       "      <th>row_200</th>\n",
       "      <th>row_201</th>\n",
       "      <th>row_202</th>\n",
       "      <th>row_203</th>\n",
       "      <th>row_204</th>\n",
       "      <th>row_205</th>\n",
       "      <th>row_206</th>\n",
       "      <th>row_207</th>\n",
       "      <th>row_208</th>\n",
       "      <th>row_209</th>\n",
       "      <th>row_210</th>\n",
       "      <th>row_211</th>\n",
       "      <th>row_212</th>\n",
       "      <th>row_213</th>\n",
       "      <th>row_214</th>\n",
       "      <th>row_215</th>\n",
       "      <th>row_216</th>\n",
       "      <th>row_217</th>\n",
       "      <th>row_218</th>\n",
       "      <th>row_219</th>\n",
       "      <th>row_220</th>\n",
       "      <th>row_221</th>\n",
       "      <th>row_222</th>\n",
       "      <th>row_223</th>\n",
       "      <th>row_224</th>\n",
       "      <th>row_225</th>\n",
       "      <th>row_226</th>\n",
       "      <th>row_227</th>\n",
       "      <th>row_228</th>\n",
       "      <th>row_229</th>\n",
       "      <th>row_230</th>\n",
       "      <th></th>\n",
       "      <th></th>\n",
       "      <th></th>\n",
       "    </tr>\n",
       "  </thead>\n",
       "  <tbody>\n",
       "    <tr>\n",
       "      <th>1</th>\n",
       "      <th>1</th>\n",
       "      <th>1</th>\n",
       "      <th>1</th>\n",
       "      <th>1</th>\n",
       "      <th>1</th>\n",
       "      <th>1</th>\n",
       "      <th>1</th>\n",
       "      <th>1</th>\n",
       "      <th>1</th>\n",
       "      <th>1</th>\n",
       "      <th>1</th>\n",
       "      <th>1</th>\n",
       "      <th>1</th>\n",
       "      <th>1</th>\n",
       "      <th>1</th>\n",
       "      <th>1</th>\n",
       "      <th>1</th>\n",
       "      <th>1</th>\n",
       "      <th>1</th>\n",
       "      <th>1</th>\n",
       "      <th>1</th>\n",
       "      <th>1</th>\n",
       "      <th>1</th>\n",
       "      <th>1</th>\n",
       "      <th>1</th>\n",
       "      <th>1</th>\n",
       "      <th>1</th>\n",
       "      <th>1</th>\n",
       "      <th>1</th>\n",
       "      <th>1</th>\n",
       "      <th>1</th>\n",
       "      <th>1</th>\n",
       "      <th>1</th>\n",
       "      <th>1</th>\n",
       "      <th>1</th>\n",
       "      <th>1</th>\n",
       "      <th>1</th>\n",
       "      <th>1</th>\n",
       "      <th>1</th>\n",
       "      <th>1</th>\n",
       "      <th>1</th>\n",
       "      <th>1</th>\n",
       "      <th>1</th>\n",
       "      <th>1</th>\n",
       "      <th>1</th>\n",
       "      <th>1</th>\n",
       "      <th>1</th>\n",
       "      <th>1</th>\n",
       "      <th>1</th>\n",
       "      <th>1</th>\n",
       "      <th>1</th>\n",
       "      <th>1</th>\n",
       "      <th>1</th>\n",
       "      <th>1</th>\n",
       "      <th>1</th>\n",
       "      <th>1</th>\n",
       "      <th>1</th>\n",
       "      <th>1</th>\n",
       "      <th>1</th>\n",
       "      <th>1</th>\n",
       "      <th>1</th>\n",
       "      <th>1</th>\n",
       "      <th>1</th>\n",
       "      <th>1</th>\n",
       "      <th>1</th>\n",
       "      <th>1</th>\n",
       "      <th>1</th>\n",
       "      <th>1</th>\n",
       "      <th>1</th>\n",
       "      <th>1</th>\n",
       "      <th>1</th>\n",
       "      <th>1</th>\n",
       "      <th>1</th>\n",
       "      <th>1</th>\n",
       "      <th>1</th>\n",
       "      <th>1</th>\n",
       "      <th>1</th>\n",
       "      <th>1</th>\n",
       "      <th>1</th>\n",
       "      <th>1</th>\n",
       "      <th>1</th>\n",
       "      <th>1</th>\n",
       "      <th>1</th>\n",
       "      <th>1</th>\n",
       "      <th>1</th>\n",
       "      <th>1</th>\n",
       "      <th>1</th>\n",
       "      <th>1</th>\n",
       "      <th>1</th>\n",
       "      <th>1</th>\n",
       "      <th>1</th>\n",
       "      <th>1</th>\n",
       "      <th>1</th>\n",
       "      <th>1</th>\n",
       "      <th>1</th>\n",
       "      <th>1</th>\n",
       "      <th>1</th>\n",
       "      <th>1</th>\n",
       "      <th>1</th>\n",
       "      <th>2</th>\n",
       "      <th>2</th>\n",
       "      <th>2</th>\n",
       "      <th>2</th>\n",
       "      <th>2</th>\n",
       "      <th>2</th>\n",
       "      <th>2</th>\n",
       "      <th>2</th>\n",
       "      <th>2</th>\n",
       "      <th>2</th>\n",
       "      <th>2</th>\n",
       "      <th>2</th>\n",
       "      <th>2</th>\n",
       "      <th>2</th>\n",
       "      <th>2</th>\n",
       "      <th>2</th>\n",
       "      <th>2</th>\n",
       "      <th>2</th>\n",
       "      <th>2</th>\n",
       "      <th>2</th>\n",
       "      <th>2</th>\n",
       "      <th>2</th>\n",
       "      <th>2</th>\n",
       "      <th>2</th>\n",
       "      <th>2</th>\n",
       "      <th>2</th>\n",
       "      <th>2</th>\n",
       "      <th>2</th>\n",
       "      <th>2</th>\n",
       "      <th>2</th>\n",
       "      <th>2</th>\n",
       "      <th>2</th>\n",
       "      <th>2</th>\n",
       "      <th>2</th>\n",
       "      <th>2</th>\n",
       "      <th>2</th>\n",
       "      <th>2</th>\n",
       "      <th>2</th>\n",
       "      <th>2</th>\n",
       "      <th>2</th>\n",
       "      <th>2</th>\n",
       "      <th>2</th>\n",
       "      <th>2</th>\n",
       "      <th>2</th>\n",
       "      <th>2</th>\n",
       "      <th>2</th>\n",
       "      <th>2</th>\n",
       "      <th>2</th>\n",
       "      <th>2</th>\n",
       "      <th>2</th>\n",
       "      <th>2</th>\n",
       "      <th>2</th>\n",
       "      <th>2</th>\n",
       "      <th>2</th>\n",
       "      <th>2</th>\n",
       "      <th>2</th>\n",
       "      <th>2</th>\n",
       "      <th>2</th>\n",
       "      <th>2</th>\n",
       "      <th>2</th>\n",
       "      <th>2</th>\n",
       "      <th>2</th>\n",
       "      <th>2</th>\n",
       "      <th>2</th>\n",
       "      <th>2</th>\n",
       "      <th>2</th>\n",
       "      <th>2</th>\n",
       "      <th>2</th>\n",
       "      <th>2</th>\n",
       "      <th>2</th>\n",
       "      <th>2</th>\n",
       "      <th>2</th>\n",
       "      <th>2</th>\n",
       "      <th>2</th>\n",
       "      <th>2</th>\n",
       "      <th>2</th>\n",
       "      <th>2</th>\n",
       "      <th>2</th>\n",
       "      <th>2</th>\n",
       "      <th>2</th>\n",
       "      <th>2</th>\n",
       "      <th>2</th>\n",
       "      <th>2</th>\n",
       "      <th>2</th>\n",
       "      <th>2</th>\n",
       "      <th>2</th>\n",
       "      <th>2</th>\n",
       "      <th>2</th>\n",
       "      <th>2</th>\n",
       "      <th>2</th>\n",
       "      <th>2</th>\n",
       "      <th>2</th>\n",
       "      <th>2</th>\n",
       "      <th>2</th>\n",
       "      <th>2</th>\n",
       "      <th>2</th>\n",
       "      <th>2</th>\n",
       "      <th>2</th>\n",
       "      <th>2</th>\n",
       "      <th>2</th>\n",
       "      <th>2</th>\n",
       "      <th>3</th>\n",
       "      <th>3</th>\n",
       "      <th>3</th>\n",
       "      <th>3</th>\n",
       "      <th>3</th>\n",
       "      <th>3</th>\n",
       "      <th>3</th>\n",
       "      <th>3</th>\n",
       "      <th>3</th>\n",
       "      <th>3</th>\n",
       "      <th>3</th>\n",
       "      <th>3</th>\n",
       "      <th>3</th>\n",
       "      <th>3</th>\n",
       "      <th>3</th>\n",
       "      <th>3</th>\n",
       "      <th>3</th>\n",
       "      <th>3</th>\n",
       "      <th>3</th>\n",
       "      <th>3</th>\n",
       "      <th>3</th>\n",
       "      <th>3</th>\n",
       "      <th>3</th>\n",
       "      <th>3</th>\n",
       "      <th>3</th>\n",
       "      <th>3</th>\n",
       "      <th>3</th>\n",
       "      <th>3</th>\n",
       "      <th>3</th>\n",
       "      <th>3</th>\n",
       "      <td>77</td>\n",
       "      <td>77</td>\n",
       "      <td>77</td>\n",
       "    </tr>\n",
       "  </tbody>\n",
       "</table>\n",
       "</div>"
      ],
      "text/plain": [
       "col_0                                                                                                                                                                                                                                                                                                                                                                                                                                                                                                                                                                                                                                                                                                                                                                                                                                                                                                                                                                                                                                                                                                                                                                                                                                                                                                                                                                                                                                                                                                                                                                                                                                                                                                                                                                                                       0  \\\n",
       "row_0 row_1 row_2 row_3 row_4 row_5 row_6 row_7 row_8 row_9 row_10 row_11 row_12 row_13 row_14 row_15 row_16 row_17 row_18 row_19 row_20 row_21 row_22 row_23 row_24 row_25 row_26 row_27 row_28 row_29 row_30 row_31 row_32 row_33 row_34 row_35 row_36 row_37 row_38 row_39 row_40 row_41 row_42 row_43 row_44 row_45 row_46 row_47 row_48 row_49 row_50 row_51 row_52 row_53 row_54 row_55 row_56 row_57 row_58 row_59 row_60 row_61 row_62 row_63 row_64 row_65 row_66 row_67 row_68 row_69 row_70 row_71 row_72 row_73 row_74 row_75 row_76 row_77 row_78 row_79 row_80 row_81 row_82 row_83 row_84 row_85 row_86 row_87 row_88 row_89 row_90 row_91 row_92 row_93 row_94 row_95 row_96 row_97 row_98 row_99 row_100 row_101 row_102 row_103 row_104 row_105 row_106 row_107 row_108 row_109 row_110 row_111 row_112 row_113 row_114 row_115 row_116 row_117 row_118 row_119 row_120 row_121 row_122 row_123 row_124 row_125 row_126 row_127 row_128 row_129 row_130 row_131 row_132 row_133 row_134 row_135 row_136 row_137 row_138 row_139 row_140 row_141 row_142 row_143 row_144 row_145 row_146 row_147 row_148 row_149 row_150 row_151 row_152 row_153 row_154 row_155 row_156 row_157 row_158 row_159 row_160 row_161 row_162 row_163 row_164 row_165 row_166 row_167 row_168 row_169 row_170 row_171 row_172 row_173 row_174 row_175 row_176 row_177 row_178 row_179 row_180 row_181 row_182 row_183 row_184 row_185 row_186 row_187 row_188 row_189 row_190 row_191 row_192 row_193 row_194 row_195 row_196 row_197 row_198 row_199 row_200 row_201 row_202 row_203 row_204 row_205 row_206 row_207 row_208 row_209 row_210 row_211 row_212 row_213 row_214 row_215 row_216 row_217 row_218 row_219 row_220 row_221 row_222 row_223 row_224 row_225 row_226 row_227 row_228 row_229 row_230       \n",
       "1     1     1     1     1     1     1     1     1     1     1      1      1      1      1      1      1      1      1      1      1      1      1      1      1      1      1      1      1      1      1      1      1      1      1      1      1      1      1      1      1      1      1      1      1      1      1      1      1      1      1      1      1      1      1      1      1      1      1      1      1      1      1      1      1      1      1      1      1      1      1      1      1      1      1      1      1      1      1      1      1      1      1      1      1      1      1      1      1      1      1      1      1      1      1      1      1      1      1      1      2       2       2       2       2       2       2       2       2       2       2       2       2       2       2       2       2       2       2       2       2       2       2       2       2       2       2       2       2       2       2       2       2       2       2       2       2       2       2       2       2       2       2       2       2       2       2       2       2       2       2       2       2       2       2       2       2       2       2       2       2       2       2       2       2       2       2       2       2       2       2       2       2       2       2       2       2       2       2       2       2       2       2       2       2       2       2       2       2       2       2       2       2       2       2       2       2       2       2       2       2       3       3       3       3       3       3       3       3       3       3       3       3       3       3       3       3       3       3       3       3       3       3       3       3       3       3       3       3       3       3        77   \n",
       "\n",
       "col_0                                                                                                                                                                                                                                                                                                                                                                                                                                                                                                                                                                                                                                                                                                                                                                                                                                                                                                                                                                                                                                                                                                                                                                                                                                                                                                                                                                                                                                                                                                                                                                                                                                                                                                                                                                                                       1  \\\n",
       "row_0 row_1 row_2 row_3 row_4 row_5 row_6 row_7 row_8 row_9 row_10 row_11 row_12 row_13 row_14 row_15 row_16 row_17 row_18 row_19 row_20 row_21 row_22 row_23 row_24 row_25 row_26 row_27 row_28 row_29 row_30 row_31 row_32 row_33 row_34 row_35 row_36 row_37 row_38 row_39 row_40 row_41 row_42 row_43 row_44 row_45 row_46 row_47 row_48 row_49 row_50 row_51 row_52 row_53 row_54 row_55 row_56 row_57 row_58 row_59 row_60 row_61 row_62 row_63 row_64 row_65 row_66 row_67 row_68 row_69 row_70 row_71 row_72 row_73 row_74 row_75 row_76 row_77 row_78 row_79 row_80 row_81 row_82 row_83 row_84 row_85 row_86 row_87 row_88 row_89 row_90 row_91 row_92 row_93 row_94 row_95 row_96 row_97 row_98 row_99 row_100 row_101 row_102 row_103 row_104 row_105 row_106 row_107 row_108 row_109 row_110 row_111 row_112 row_113 row_114 row_115 row_116 row_117 row_118 row_119 row_120 row_121 row_122 row_123 row_124 row_125 row_126 row_127 row_128 row_129 row_130 row_131 row_132 row_133 row_134 row_135 row_136 row_137 row_138 row_139 row_140 row_141 row_142 row_143 row_144 row_145 row_146 row_147 row_148 row_149 row_150 row_151 row_152 row_153 row_154 row_155 row_156 row_157 row_158 row_159 row_160 row_161 row_162 row_163 row_164 row_165 row_166 row_167 row_168 row_169 row_170 row_171 row_172 row_173 row_174 row_175 row_176 row_177 row_178 row_179 row_180 row_181 row_182 row_183 row_184 row_185 row_186 row_187 row_188 row_189 row_190 row_191 row_192 row_193 row_194 row_195 row_196 row_197 row_198 row_199 row_200 row_201 row_202 row_203 row_204 row_205 row_206 row_207 row_208 row_209 row_210 row_211 row_212 row_213 row_214 row_215 row_216 row_217 row_218 row_219 row_220 row_221 row_222 row_223 row_224 row_225 row_226 row_227 row_228 row_229 row_230       \n",
       "1     1     1     1     1     1     1     1     1     1     1      1      1      1      1      1      1      1      1      1      1      1      1      1      1      1      1      1      1      1      1      1      1      1      1      1      1      1      1      1      1      1      1      1      1      1      1      1      1      1      1      1      1      1      1      1      1      1      1      1      1      1      1      1      1      1      1      1      1      1      1      1      1      1      1      1      1      1      1      1      1      1      1      1      1      1      1      1      1      1      1      1      1      1      1      1      1      1      1      1      2       2       2       2       2       2       2       2       2       2       2       2       2       2       2       2       2       2       2       2       2       2       2       2       2       2       2       2       2       2       2       2       2       2       2       2       2       2       2       2       2       2       2       2       2       2       2       2       2       2       2       2       2       2       2       2       2       2       2       2       2       2       2       2       2       2       2       2       2       2       2       2       2       2       2       2       2       2       2       2       2       2       2       2       2       2       2       2       2       2       2       2       2       2       2       2       2       2       2       2       2       3       3       3       3       3       3       3       3       3       3       3       3       3       3       3       3       3       3       3       3       3       3       3       3       3       3       3       3       3       3        77   \n",
       "\n",
       "col_0                                                                                                                                                                                                                                                                                                                                                                                                                                                                                                                                                                                                                                                                                                                                                                                                                                                                                                                                                                                                                                                                                                                                                                                                                                                                                                                                                                                                                                                                                                                                                                                                                                                                                                                                                                                                       2  \n",
       "row_0 row_1 row_2 row_3 row_4 row_5 row_6 row_7 row_8 row_9 row_10 row_11 row_12 row_13 row_14 row_15 row_16 row_17 row_18 row_19 row_20 row_21 row_22 row_23 row_24 row_25 row_26 row_27 row_28 row_29 row_30 row_31 row_32 row_33 row_34 row_35 row_36 row_37 row_38 row_39 row_40 row_41 row_42 row_43 row_44 row_45 row_46 row_47 row_48 row_49 row_50 row_51 row_52 row_53 row_54 row_55 row_56 row_57 row_58 row_59 row_60 row_61 row_62 row_63 row_64 row_65 row_66 row_67 row_68 row_69 row_70 row_71 row_72 row_73 row_74 row_75 row_76 row_77 row_78 row_79 row_80 row_81 row_82 row_83 row_84 row_85 row_86 row_87 row_88 row_89 row_90 row_91 row_92 row_93 row_94 row_95 row_96 row_97 row_98 row_99 row_100 row_101 row_102 row_103 row_104 row_105 row_106 row_107 row_108 row_109 row_110 row_111 row_112 row_113 row_114 row_115 row_116 row_117 row_118 row_119 row_120 row_121 row_122 row_123 row_124 row_125 row_126 row_127 row_128 row_129 row_130 row_131 row_132 row_133 row_134 row_135 row_136 row_137 row_138 row_139 row_140 row_141 row_142 row_143 row_144 row_145 row_146 row_147 row_148 row_149 row_150 row_151 row_152 row_153 row_154 row_155 row_156 row_157 row_158 row_159 row_160 row_161 row_162 row_163 row_164 row_165 row_166 row_167 row_168 row_169 row_170 row_171 row_172 row_173 row_174 row_175 row_176 row_177 row_178 row_179 row_180 row_181 row_182 row_183 row_184 row_185 row_186 row_187 row_188 row_189 row_190 row_191 row_192 row_193 row_194 row_195 row_196 row_197 row_198 row_199 row_200 row_201 row_202 row_203 row_204 row_205 row_206 row_207 row_208 row_209 row_210 row_211 row_212 row_213 row_214 row_215 row_216 row_217 row_218 row_219 row_220 row_221 row_222 row_223 row_224 row_225 row_226 row_227 row_228 row_229 row_230      \n",
       "1     1     1     1     1     1     1     1     1     1     1      1      1      1      1      1      1      1      1      1      1      1      1      1      1      1      1      1      1      1      1      1      1      1      1      1      1      1      1      1      1      1      1      1      1      1      1      1      1      1      1      1      1      1      1      1      1      1      1      1      1      1      1      1      1      1      1      1      1      1      1      1      1      1      1      1      1      1      1      1      1      1      1      1      1      1      1      1      1      1      1      1      1      1      1      1      1      1      1      1      2       2       2       2       2       2       2       2       2       2       2       2       2       2       2       2       2       2       2       2       2       2       2       2       2       2       2       2       2       2       2       2       2       2       2       2       2       2       2       2       2       2       2       2       2       2       2       2       2       2       2       2       2       2       2       2       2       2       2       2       2       2       2       2       2       2       2       2       2       2       2       2       2       2       2       2       2       2       2       2       2       2       2       2       2       2       2       2       2       2       2       2       2       2       2       2       2       2       2       2       2       3       3       3       3       3       3       3       3       3       3       3       3       3       3       3       3       3       3       3       3       3       3       3       3       3       3       3       3       3       3        77  "
      ]
     },
     "execution_count": 9,
     "metadata": {},
     "output_type": "execute_result"
    }
   ],
   "source": [
    "import pandas as pd\n",
    "pd.crosstab(strata, assign)"
   ]
  },
  {
   "cell_type": "markdown",
   "metadata": {},
   "source": [
    "# Test Grace & Audrey's Code"
   ]
  },
  {
   "cell_type": "code",
   "execution_count": 1,
   "metadata": {
    "collapsed": false
   },
   "outputs": [],
   "source": [
    "from genericRandomizationCode import randomization"
   ]
  },
  {
   "cell_type": "code",
   "execution_count": 2,
   "metadata": {
    "collapsed": false
   },
   "outputs": [],
   "source": [
    "rdm = randomization()"
   ]
  },
  {
   "cell_type": "code",
   "execution_count": 3,
   "metadata": {
    "collapsed": false
   },
   "outputs": [
    {
     "name": "stdout",
     "output_type": "stream",
     "text": [
      "5541284450469\n"
     ]
    }
   ],
   "source": [
    "print(rdm.seed)"
   ]
  },
  {
   "cell_type": "markdown",
   "metadata": {},
   "source": [
    "# Play with Python"
   ]
  },
  {
   "cell_type": "code",
   "execution_count": 4,
   "metadata": {
    "collapsed": true
   },
   "outputs": [],
   "source": [
    "import numpy as np\n",
    "import pandas as pd"
   ]
  },
  {
   "cell_type": "code",
   "execution_count": 36,
   "metadata": {
    "collapsed": false
   },
   "outputs": [],
   "source": [
    "number = np.random.randint(999999999999)"
   ]
  },
  {
   "cell_type": "code",
   "execution_count": 37,
   "metadata": {
    "collapsed": false
   },
   "outputs": [
    {
     "data": {
      "text/plain": [
       "970899322601"
      ]
     },
     "execution_count": 37,
     "metadata": {},
     "output_type": "execute_result"
    }
   ],
   "source": [
    "number"
   ]
  },
  {
   "cell_type": "code",
   "execution_count": 92,
   "metadata": {
    "collapsed": true
   },
   "outputs": [],
   "source": [
    "np.random.seed(98632)"
   ]
  },
  {
   "cell_type": "code",
   "execution_count": 93,
   "metadata": {
    "collapsed": false
   },
   "outputs": [],
   "source": [
    "test = pd.DataFrame({'humans':['Audrey', 'Grace', 'Joe', 'Paul', 'Genny'], 'myStrata':['F', 'F', 'M', 'M', 'F']})"
   ]
  },
  {
   "cell_type": "code",
   "execution_count": 94,
   "metadata": {
    "collapsed": false
   },
   "outputs": [
    {
     "data": {
      "text/plain": [
       "'   humans myStrata\\n0  Audrey        F\\n1   Grace        F\\n2     Joe        M\\n3    Paul        M\\n4   Genny        F'"
      ]
     },
     "execution_count": 94,
     "metadata": {},
     "output_type": "execute_result"
    }
   ],
   "source": [
    "str(test)"
   ]
  },
  {
   "cell_type": "code",
   "execution_count": 95,
   "metadata": {
    "collapsed": false
   },
   "outputs": [],
   "source": [
    "test['rdmSortVal'] = np.random.choice(len(test)+1, len(test), replace = False)"
   ]
  },
  {
   "cell_type": "code",
   "execution_count": 96,
   "metadata": {
    "collapsed": false
   },
   "outputs": [
    {
     "data": {
      "text/html": [
       "<div>\n",
       "<table border=\"1\" class=\"dataframe\">\n",
       "  <thead>\n",
       "    <tr style=\"text-align: right;\">\n",
       "      <th></th>\n",
       "      <th>humans</th>\n",
       "      <th>myStrata</th>\n",
       "      <th>rdmSortVal</th>\n",
       "    </tr>\n",
       "  </thead>\n",
       "  <tbody>\n",
       "    <tr>\n",
       "      <th>0</th>\n",
       "      <td>Audrey</td>\n",
       "      <td>F</td>\n",
       "      <td>0</td>\n",
       "    </tr>\n",
       "    <tr>\n",
       "      <th>1</th>\n",
       "      <td>Grace</td>\n",
       "      <td>F</td>\n",
       "      <td>5</td>\n",
       "    </tr>\n",
       "    <tr>\n",
       "      <th>2</th>\n",
       "      <td>Joe</td>\n",
       "      <td>M</td>\n",
       "      <td>2</td>\n",
       "    </tr>\n",
       "    <tr>\n",
       "      <th>3</th>\n",
       "      <td>Paul</td>\n",
       "      <td>M</td>\n",
       "      <td>4</td>\n",
       "    </tr>\n",
       "    <tr>\n",
       "      <th>4</th>\n",
       "      <td>Genny</td>\n",
       "      <td>F</td>\n",
       "      <td>1</td>\n",
       "    </tr>\n",
       "  </tbody>\n",
       "</table>\n",
       "</div>"
      ],
      "text/plain": [
       "   humans myStrata  rdmSortVal\n",
       "0  Audrey        F           0\n",
       "1   Grace        F           5\n",
       "2     Joe        M           2\n",
       "3    Paul        M           4\n",
       "4   Genny        F           1"
      ]
     },
     "execution_count": 96,
     "metadata": {},
     "output_type": "execute_result"
    }
   ],
   "source": [
    "test"
   ]
  },
  {
   "cell_type": "code",
   "execution_count": 97,
   "metadata": {
    "collapsed": false
   },
   "outputs": [],
   "source": [
    "test.sort(['rdmSortVal'], inplace = True)"
   ]
  },
  {
   "cell_type": "code",
   "execution_count": 98,
   "metadata": {
    "collapsed": false
   },
   "outputs": [
    {
     "data": {
      "text/html": [
       "<div>\n",
       "<table border=\"1\" class=\"dataframe\">\n",
       "  <thead>\n",
       "    <tr style=\"text-align: right;\">\n",
       "      <th></th>\n",
       "      <th>humans</th>\n",
       "      <th>myStrata</th>\n",
       "      <th>rdmSortVal</th>\n",
       "    </tr>\n",
       "  </thead>\n",
       "  <tbody>\n",
       "    <tr>\n",
       "      <th>0</th>\n",
       "      <td>Audrey</td>\n",
       "      <td>F</td>\n",
       "      <td>0</td>\n",
       "    </tr>\n",
       "    <tr>\n",
       "      <th>4</th>\n",
       "      <td>Genny</td>\n",
       "      <td>F</td>\n",
       "      <td>1</td>\n",
       "    </tr>\n",
       "    <tr>\n",
       "      <th>2</th>\n",
       "      <td>Joe</td>\n",
       "      <td>M</td>\n",
       "      <td>2</td>\n",
       "    </tr>\n",
       "    <tr>\n",
       "      <th>3</th>\n",
       "      <td>Paul</td>\n",
       "      <td>M</td>\n",
       "      <td>4</td>\n",
       "    </tr>\n",
       "    <tr>\n",
       "      <th>1</th>\n",
       "      <td>Grace</td>\n",
       "      <td>F</td>\n",
       "      <td>5</td>\n",
       "    </tr>\n",
       "  </tbody>\n",
       "</table>\n",
       "</div>"
      ],
      "text/plain": [
       "   humans myStrata  rdmSortVal\n",
       "0  Audrey        F           0\n",
       "4   Genny        F           1\n",
       "2     Joe        M           2\n",
       "3    Paul        M           4\n",
       "1   Grace        F           5"
      ]
     },
     "execution_count": 98,
     "metadata": {},
     "output_type": "execute_result"
    }
   ],
   "source": [
    "test"
   ]
  },
  {
   "cell_type": "code",
   "execution_count": 103,
   "metadata": {
    "collapsed": false
   },
   "outputs": [
    {
     "data": {
      "text/plain": [
       "array([1, 1, 0, 1, 1])"
      ]
     },
     "execution_count": 103,
     "metadata": {},
     "output_type": "execute_result"
    }
   ],
   "source": [
    "numConditions = 2\n",
    "np.random.choice(numConditions, len(test))"
   ]
  },
  {
   "cell_type": "code",
   "execution_count": null,
   "metadata": {
    "collapsed": true
   },
   "outputs": [],
   "source": [
    "pd.reah"
   ]
  },
  {
   "cell_type": "code",
   "execution_count": 77,
   "metadata": {
    "collapsed": true
   },
   "outputs": [],
   "source": [
    "test = pd.DataFrame({'humans':['Audrey', 'Grace', 'Joe', 'Paul', 'Genny'], 'myStrata':['F', 'F', 'M', 'M', 'F']})"
   ]
  },
  {
   "cell_type": "code",
   "execution_count": 78,
   "metadata": {
    "collapsed": false
   },
   "outputs": [
    {
     "data": {
      "text/html": [
       "<div>\n",
       "<table border=\"1\" class=\"dataframe\">\n",
       "  <thead>\n",
       "    <tr style=\"text-align: right;\">\n",
       "      <th></th>\n",
       "      <th>humans</th>\n",
       "      <th>myStrata</th>\n",
       "    </tr>\n",
       "  </thead>\n",
       "  <tbody>\n",
       "    <tr>\n",
       "      <th>0</th>\n",
       "      <td>Audrey</td>\n",
       "      <td>F</td>\n",
       "    </tr>\n",
       "    <tr>\n",
       "      <th>1</th>\n",
       "      <td>Grace</td>\n",
       "      <td>F</td>\n",
       "    </tr>\n",
       "    <tr>\n",
       "      <th>2</th>\n",
       "      <td>Joe</td>\n",
       "      <td>M</td>\n",
       "    </tr>\n",
       "    <tr>\n",
       "      <th>3</th>\n",
       "      <td>Paul</td>\n",
       "      <td>M</td>\n",
       "    </tr>\n",
       "    <tr>\n",
       "      <th>4</th>\n",
       "      <td>Genny</td>\n",
       "      <td>F</td>\n",
       "    </tr>\n",
       "  </tbody>\n",
       "</table>\n",
       "</div>"
      ],
      "text/plain": [
       "   humans myStrata\n",
       "0  Audrey        F\n",
       "1   Grace        F\n",
       "2     Joe        M\n",
       "3    Paul        M\n",
       "4   Genny        F"
      ]
     },
     "execution_count": 78,
     "metadata": {},
     "output_type": "execute_result"
    }
   ],
   "source": [
    "test"
   ]
  },
  {
   "cell_type": "code",
   "execution_count": 79,
   "metadata": {
    "collapsed": true
   },
   "outputs": [],
   "source": [
    "strataList = test['myStrata']"
   ]
  },
  {
   "cell_type": "code",
   "execution_count": 80,
   "metadata": {
    "collapsed": false
   },
   "outputs": [
    {
     "data": {
      "text/plain": [
       "0    F\n",
       "1    F\n",
       "2    M\n",
       "3    M\n",
       "4    F\n",
       "Name: myStrata, dtype: object"
      ]
     },
     "execution_count": 80,
     "metadata": {},
     "output_type": "execute_result"
    }
   ],
   "source": [
    "strataList"
   ]
  },
  {
   "cell_type": "code",
   "execution_count": 81,
   "metadata": {
    "collapsed": false
   },
   "outputs": [
    {
     "data": {
      "text/plain": [
       "{'F', 'M'}"
      ]
     },
     "execution_count": 81,
     "metadata": {},
     "output_type": "execute_result"
    }
   ],
   "source": [
    "set(strataList)"
   ]
  },
  {
   "cell_type": "code",
   "execution_count": 84,
   "metadata": {
    "collapsed": false
   },
   "outputs": [],
   "source": [
    "vals = [x for x in set(test['myStrata'])]"
   ]
  },
  {
   "cell_type": "code",
   "execution_count": 85,
   "metadata": {
    "collapsed": false
   },
   "outputs": [
    {
     "data": {
      "text/plain": [
       "['F', 'M']"
      ]
     },
     "execution_count": 85,
     "metadata": {},
     "output_type": "execute_result"
    }
   ],
   "source": [
    "vals"
   ]
  },
  {
   "cell_type": "code",
   "execution_count": 86,
   "metadata": {
    "collapsed": false
   },
   "outputs": [
    {
     "data": {
      "text/html": [
       "<div>\n",
       "<table border=\"1\" class=\"dataframe\">\n",
       "  <thead>\n",
       "    <tr style=\"text-align: right;\">\n",
       "      <th></th>\n",
       "      <th>humans</th>\n",
       "      <th>myStrata</th>\n",
       "    </tr>\n",
       "  </thead>\n",
       "  <tbody>\n",
       "    <tr>\n",
       "      <th>0</th>\n",
       "      <td>Audrey</td>\n",
       "      <td>F</td>\n",
       "    </tr>\n",
       "    <tr>\n",
       "      <th>1</th>\n",
       "      <td>Grace</td>\n",
       "      <td>F</td>\n",
       "    </tr>\n",
       "    <tr>\n",
       "      <th>4</th>\n",
       "      <td>Genny</td>\n",
       "      <td>F</td>\n",
       "    </tr>\n",
       "  </tbody>\n",
       "</table>\n",
       "</div>"
      ],
      "text/plain": [
       "   humans myStrata\n",
       "0  Audrey        F\n",
       "1   Grace        F\n",
       "4   Genny        F"
      ]
     },
     "execution_count": 86,
     "metadata": {},
     "output_type": "execute_result"
    }
   ],
   "source": [
    "test.loc[test['myStrata'] == 'F']"
   ]
  },
  {
   "cell_type": "code",
   "execution_count": 87,
   "metadata": {
    "collapsed": false
   },
   "outputs": [
    {
     "data": {
      "text/html": [
       "<div>\n",
       "<table border=\"1\" class=\"dataframe\">\n",
       "  <thead>\n",
       "    <tr style=\"text-align: right;\">\n",
       "      <th></th>\n",
       "      <th>humans</th>\n",
       "      <th>myStrata</th>\n",
       "    </tr>\n",
       "  </thead>\n",
       "  <tbody>\n",
       "    <tr>\n",
       "      <th>0</th>\n",
       "      <td>Audrey</td>\n",
       "      <td>F</td>\n",
       "    </tr>\n",
       "    <tr>\n",
       "      <th>1</th>\n",
       "      <td>Grace</td>\n",
       "      <td>F</td>\n",
       "    </tr>\n",
       "    <tr>\n",
       "      <th>2</th>\n",
       "      <td>Joe</td>\n",
       "      <td>M</td>\n",
       "    </tr>\n",
       "    <tr>\n",
       "      <th>3</th>\n",
       "      <td>Paul</td>\n",
       "      <td>M</td>\n",
       "    </tr>\n",
       "    <tr>\n",
       "      <th>4</th>\n",
       "      <td>Genny</td>\n",
       "      <td>F</td>\n",
       "    </tr>\n",
       "  </tbody>\n",
       "</table>\n",
       "</div>"
      ],
      "text/plain": [
       "   humans myStrata\n",
       "0  Audrey        F\n",
       "1   Grace        F\n",
       "2     Joe        M\n",
       "3    Paul        M\n",
       "4   Genny        F"
      ]
     },
     "execution_count": 87,
     "metadata": {},
     "output_type": "execute_result"
    }
   ],
   "source": [
    "test"
   ]
  },
  {
   "cell_type": "code",
   "execution_count": 15,
   "metadata": {
    "collapsed": false
   },
   "outputs": [
    {
     "data": {
      "text/plain": [
       "0    0.267819\n",
       "1    0.267819\n",
       "2    0.267819\n",
       "3    0.267819\n",
       "4    0.267819\n",
       "Name: rdmSortVal, dtype: float64"
      ]
     },
     "execution_count": 15,
     "metadata": {},
     "output_type": "execute_result"
    }
   ],
   "source": [
    "test['rdmSortVal']"
   ]
  },
  {
   "cell_type": "code",
   "execution_count": 238,
   "metadata": {
    "collapsed": true
   },
   "outputs": [],
   "source": [
    "number = 5"
   ]
  },
  {
   "cell_type": "code",
   "execution_count": 239,
   "metadata": {
    "collapsed": true
   },
   "outputs": [],
   "source": [
    "myList = list(range(number))"
   ]
  },
  {
   "cell_type": "code",
   "execution_count": 240,
   "metadata": {
    "collapsed": false
   },
   "outputs": [
    {
     "data": {
      "text/plain": [
       "[0, 1, 2, 3, 4]"
      ]
     },
     "execution_count": 240,
     "metadata": {},
     "output_type": "execute_result"
    }
   ],
   "source": [
    "myList"
   ]
  },
  {
   "cell_type": "code",
   "execution_count": 241,
   "metadata": {
    "collapsed": false
   },
   "outputs": [],
   "source": [
    "startCode = np.random.choice(myList)"
   ]
  },
  {
   "cell_type": "code",
   "execution_count": 242,
   "metadata": {
    "collapsed": false
   },
   "outputs": [
    {
     "data": {
      "text/plain": [
       "3"
      ]
     },
     "execution_count": 242,
     "metadata": {},
     "output_type": "execute_result"
    }
   ],
   "source": [
    "startCode"
   ]
  },
  {
   "cell_type": "code",
   "execution_count": 243,
   "metadata": {
    "collapsed": true
   },
   "outputs": [],
   "source": [
    "beginCode = myList[startCode:]"
   ]
  },
  {
   "cell_type": "code",
   "execution_count": 244,
   "metadata": {
    "collapsed": false
   },
   "outputs": [
    {
     "data": {
      "text/plain": [
       "[3, 4]"
      ]
     },
     "execution_count": 244,
     "metadata": {},
     "output_type": "execute_result"
    }
   ],
   "source": [
    "beginCode"
   ]
  },
  {
   "cell_type": "code",
   "execution_count": 245,
   "metadata": {
    "collapsed": true
   },
   "outputs": [],
   "source": [
    "myList[startCode:] = []"
   ]
  },
  {
   "cell_type": "code",
   "execution_count": 246,
   "metadata": {
    "collapsed": false
   },
   "outputs": [
    {
     "data": {
      "text/plain": [
       "[0, 1, 2]"
      ]
     },
     "execution_count": 246,
     "metadata": {},
     "output_type": "execute_result"
    }
   ],
   "source": [
    "myList"
   ]
  },
  {
   "cell_type": "code",
   "execution_count": 217,
   "metadata": {
    "collapsed": false
   },
   "outputs": [
    {
     "data": {
      "text/plain": [
       "[3, 4, 0, 1, 2]"
      ]
     },
     "execution_count": 217,
     "metadata": {},
     "output_type": "execute_result"
    }
   ],
   "source": [
    "insert + myList"
   ]
  },
  {
   "cell_type": "code",
   "execution_count": 417,
   "metadata": {
    "collapsed": true
   },
   "outputs": [],
   "source": [
    "test = [1,2,3,4,5,6,7,8]"
   ]
  },
  {
   "cell_type": "code",
   "execution_count": 420,
   "metadata": {
    "collapsed": false
   },
   "outputs": [],
   "source": [
    "number = 11\n",
    "myList = list(range(number))\n",
    "startCode = np.random.choice(myList)\n",
    "newList = myList[startCode:] + myList[:startCode]\n",
    "newList = ((len(test)//number)*newList) + newList[:(len(test)%number)]"
   ]
  },
  {
   "cell_type": "code",
   "execution_count": 421,
   "metadata": {
    "collapsed": false
   },
   "outputs": [
    {
     "data": {
      "text/plain": [
       "[7, 8, 9, 10, 0, 1, 2, 3]"
      ]
     },
     "execution_count": 421,
     "metadata": {},
     "output_type": "execute_result"
    }
   ],
   "source": [
    "newList"
   ]
  },
  {
   "cell_type": "code",
   "execution_count": 402,
   "metadata": {
    "collapsed": false
   },
   "outputs": [
    {
     "data": {
      "text/plain": [
       "[2, 0]"
      ]
     },
     "execution_count": 402,
     "metadata": {},
     "output_type": "execute_result"
    }
   ],
   "source": [
    "newList[:(len(test)%number)]"
   ]
  },
  {
   "cell_type": "code",
   "execution_count": 327,
   "metadata": {
    "collapsed": false
   },
   "outputs": [],
   "source": [
    "p = 0\n",
    "num_cond = 2\n",
    "a = np.random.choice(num_cond)\n",
    "assign = []\n",
    "while p < len(test):\n",
    "    if a == (num_cond - 1):\n",
    "        assign.append(a)\n",
    "        a = 0\n",
    "    else:\n",
    "        assign.append(a)\n",
    "        a += 1\n",
    "    p+=1"
   ]
  },
  {
   "cell_type": "code",
   "execution_count": 328,
   "metadata": {
    "collapsed": false
   },
   "outputs": [
    {
     "data": {
      "text/plain": [
       "[0, 1, 0, 1, 0]"
      ]
     },
     "execution_count": 328,
     "metadata": {},
     "output_type": "execute_result"
    }
   ],
   "source": [
    "assign"
   ]
  },
  {
   "cell_type": "code",
   "execution_count": 329,
   "metadata": {
    "collapsed": true
   },
   "outputs": [],
   "source": [
    "test['condition'] = assign"
   ]
  },
  {
   "cell_type": "code",
   "execution_count": 330,
   "metadata": {
    "collapsed": false
   },
   "outputs": [
    {
     "data": {
      "text/html": [
       "<div>\n",
       "<table border=\"1\" class=\"dataframe\">\n",
       "  <thead>\n",
       "    <tr style=\"text-align: right;\">\n",
       "      <th></th>\n",
       "      <th>humans</th>\n",
       "      <th>myStrata</th>\n",
       "      <th>rdmSortVal</th>\n",
       "      <th>condition</th>\n",
       "    </tr>\n",
       "  </thead>\n",
       "  <tbody>\n",
       "    <tr>\n",
       "      <th>0</th>\n",
       "      <td>Audrey</td>\n",
       "      <td>F</td>\n",
       "      <td>0</td>\n",
       "      <td>0</td>\n",
       "    </tr>\n",
       "    <tr>\n",
       "      <th>4</th>\n",
       "      <td>Genny</td>\n",
       "      <td>F</td>\n",
       "      <td>1</td>\n",
       "      <td>1</td>\n",
       "    </tr>\n",
       "    <tr>\n",
       "      <th>2</th>\n",
       "      <td>Joe</td>\n",
       "      <td>M</td>\n",
       "      <td>2</td>\n",
       "      <td>0</td>\n",
       "    </tr>\n",
       "    <tr>\n",
       "      <th>3</th>\n",
       "      <td>Paul</td>\n",
       "      <td>M</td>\n",
       "      <td>4</td>\n",
       "      <td>1</td>\n",
       "    </tr>\n",
       "    <tr>\n",
       "      <th>1</th>\n",
       "      <td>Grace</td>\n",
       "      <td>F</td>\n",
       "      <td>5</td>\n",
       "      <td>0</td>\n",
       "    </tr>\n",
       "  </tbody>\n",
       "</table>\n",
       "</div>"
      ],
      "text/plain": [
       "   humans myStrata  rdmSortVal  condition\n",
       "0  Audrey        F           0          0\n",
       "4   Genny        F           1          1\n",
       "2     Joe        M           2          0\n",
       "3    Paul        M           4          1\n",
       "1   Grace        F           5          0"
      ]
     },
     "execution_count": 330,
     "metadata": {},
     "output_type": "execute_result"
    }
   ],
   "source": [
    "test"
   ]
  },
  {
   "cell_type": "code",
   "execution_count": null,
   "metadata": {
    "collapsed": true
   },
   "outputs": [],
   "source": []
  }
 ],
 "metadata": {
  "kernelspec": {
   "display_name": "Python 3",
   "language": "python",
   "name": "python3"
  },
  "language_info": {
   "codemirror_mode": {
    "name": "ipython",
    "version": 3
   },
   "file_extension": ".py",
   "mimetype": "text/x-python",
   "name": "python",
   "nbconvert_exporter": "python",
   "pygments_lexer": "ipython3",
   "version": "3.4.3"
  }
 },
 "nbformat": 4,
 "nbformat_minor": 0
}
