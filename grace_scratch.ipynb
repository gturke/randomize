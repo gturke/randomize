{
 "cells": [
  {
   "cell_type": "code",
   "execution_count": 67,
   "metadata": {
    "collapsed": true
   },
   "outputs": [],
   "source": [
    "import pandas as pd\n",
    "import numpy as np\n",
    "import statsmodels.api as sm"
   ]
  },
  {
   "cell_type": "code",
   "execution_count": 68,
   "metadata": {
    "collapsed": true
   },
   "outputs": [],
   "source": [
    "# #import sklearn\n",
    "# from sklearn.cross_validation import train_test_split\n",
    "# from sklearn import metrics\n",
    "# from sklearn.cross_validation import cross_val_score\n",
    "# from sklearn.linear_model import LogisticRegression\n",
    "#from sklearn import feature_selection as fs #maybe use for p-vals..."
   ]
  },
  {
   "cell_type": "code",
   "execution_count": 69,
   "metadata": {
    "collapsed": true
   },
   "outputs": [],
   "source": [
    "# import patsy #not sure if we'll need this"
   ]
  },
  {
   "cell_type": "code",
   "execution_count": 70,
   "metadata": {
    "collapsed": true
   },
   "outputs": [],
   "source": [
    "# read the data in\n",
    "df = pd.read_csv(\"http://www.ats.ucla.edu/stat/data/binary.csv\")"
   ]
  },
  {
   "cell_type": "code",
   "execution_count": 71,
   "metadata": {
    "collapsed": false,
    "scrolled": true
   },
   "outputs": [
    {
     "data": {
      "text/html": [
       "<div>\n",
       "<table border=\"1\" class=\"dataframe\">\n",
       "  <thead>\n",
       "    <tr style=\"text-align: right;\">\n",
       "      <th></th>\n",
       "      <th>admit</th>\n",
       "      <th>gre</th>\n",
       "      <th>gpa</th>\n",
       "      <th>rank</th>\n",
       "    </tr>\n",
       "  </thead>\n",
       "  <tbody>\n",
       "    <tr>\n",
       "      <th>0</th>\n",
       "      <td>0</td>\n",
       "      <td>380</td>\n",
       "      <td>3.61</td>\n",
       "      <td>3</td>\n",
       "    </tr>\n",
       "    <tr>\n",
       "      <th>1</th>\n",
       "      <td>1</td>\n",
       "      <td>660</td>\n",
       "      <td>3.67</td>\n",
       "      <td>3</td>\n",
       "    </tr>\n",
       "    <tr>\n",
       "      <th>2</th>\n",
       "      <td>1</td>\n",
       "      <td>800</td>\n",
       "      <td>4.00</td>\n",
       "      <td>1</td>\n",
       "    </tr>\n",
       "    <tr>\n",
       "      <th>3</th>\n",
       "      <td>1</td>\n",
       "      <td>640</td>\n",
       "      <td>3.19</td>\n",
       "      <td>4</td>\n",
       "    </tr>\n",
       "    <tr>\n",
       "      <th>4</th>\n",
       "      <td>0</td>\n",
       "      <td>520</td>\n",
       "      <td>2.93</td>\n",
       "      <td>4</td>\n",
       "    </tr>\n",
       "  </tbody>\n",
       "</table>\n",
       "</div>"
      ],
      "text/plain": [
       "   admit  gre   gpa  rank\n",
       "0      0  380  3.61     3\n",
       "1      1  660  3.67     3\n",
       "2      1  800  4.00     1\n",
       "3      1  640  3.19     4\n",
       "4      0  520  2.93     4"
      ]
     },
     "execution_count": 71,
     "metadata": {},
     "output_type": "execute_result"
    }
   ],
   "source": [
    "df.head()"
   ]
  },
  {
   "cell_type": "code",
   "execution_count": 72,
   "metadata": {
    "collapsed": false
   },
   "outputs": [
    {
     "data": {
      "text/plain": [
       "admit    400\n",
       "gre      400\n",
       "gpa      400\n",
       "rank     400\n",
       "dtype: int64"
      ]
     },
     "execution_count": 72,
     "metadata": {},
     "output_type": "execute_result"
    }
   ],
   "source": [
    "df.count()"
   ]
  },
  {
   "cell_type": "code",
   "execution_count": 73,
   "metadata": {
    "collapsed": false,
    "scrolled": false
   },
   "outputs": [
    {
     "data": {
      "text/plain": [
       "'rank'"
      ]
     },
     "execution_count": 73,
     "metadata": {},
     "output_type": "execute_result"
    }
   ],
   "source": [
    "df.columns[3]"
   ]
  },
  {
   "cell_type": "code",
   "execution_count": 74,
   "metadata": {
    "collapsed": false
   },
   "outputs": [],
   "source": [
    "df.columns=['admit','gre','gpa','prestige']"
   ]
  },
  {
   "cell_type": "code",
   "execution_count": 75,
   "metadata": {
    "collapsed": false
   },
   "outputs": [
    {
     "data": {
      "text/html": [
       "<div>\n",
       "<table border=\"1\" class=\"dataframe\">\n",
       "  <thead>\n",
       "    <tr style=\"text-align: right;\">\n",
       "      <th></th>\n",
       "      <th>admit</th>\n",
       "      <th>gre</th>\n",
       "      <th>gpa</th>\n",
       "      <th>prestige</th>\n",
       "    </tr>\n",
       "  </thead>\n",
       "  <tbody>\n",
       "    <tr>\n",
       "      <th>0</th>\n",
       "      <td>0</td>\n",
       "      <td>380</td>\n",
       "      <td>3.61</td>\n",
       "      <td>3</td>\n",
       "    </tr>\n",
       "    <tr>\n",
       "      <th>1</th>\n",
       "      <td>1</td>\n",
       "      <td>660</td>\n",
       "      <td>3.67</td>\n",
       "      <td>3</td>\n",
       "    </tr>\n",
       "    <tr>\n",
       "      <th>2</th>\n",
       "      <td>1</td>\n",
       "      <td>800</td>\n",
       "      <td>4.00</td>\n",
       "      <td>1</td>\n",
       "    </tr>\n",
       "    <tr>\n",
       "      <th>3</th>\n",
       "      <td>1</td>\n",
       "      <td>640</td>\n",
       "      <td>3.19</td>\n",
       "      <td>4</td>\n",
       "    </tr>\n",
       "    <tr>\n",
       "      <th>4</th>\n",
       "      <td>0</td>\n",
       "      <td>520</td>\n",
       "      <td>2.93</td>\n",
       "      <td>4</td>\n",
       "    </tr>\n",
       "  </tbody>\n",
       "</table>\n",
       "</div>"
      ],
      "text/plain": [
       "   admit  gre   gpa  prestige\n",
       "0      0  380  3.61         3\n",
       "1      1  660  3.67         3\n",
       "2      1  800  4.00         1\n",
       "3      1  640  3.19         4\n",
       "4      0  520  2.93         4"
      ]
     },
     "execution_count": 75,
     "metadata": {},
     "output_type": "execute_result"
    }
   ],
   "source": [
    "df.head()"
   ]
  },
  {
   "cell_type": "code",
   "execution_count": 76,
   "metadata": {
    "collapsed": false
   },
   "outputs": [
    {
     "data": {
      "text/html": [
       "<div>\n",
       "<table border=\"1\" class=\"dataframe\">\n",
       "  <thead>\n",
       "    <tr style=\"text-align: right;\">\n",
       "      <th></th>\n",
       "      <th>prestige_1</th>\n",
       "      <th>prestige_2</th>\n",
       "      <th>prestige_3</th>\n",
       "      <th>prestige_4</th>\n",
       "    </tr>\n",
       "  </thead>\n",
       "  <tbody>\n",
       "    <tr>\n",
       "      <th>0</th>\n",
       "      <td>0</td>\n",
       "      <td>0</td>\n",
       "      <td>1</td>\n",
       "      <td>0</td>\n",
       "    </tr>\n",
       "    <tr>\n",
       "      <th>1</th>\n",
       "      <td>0</td>\n",
       "      <td>0</td>\n",
       "      <td>1</td>\n",
       "      <td>0</td>\n",
       "    </tr>\n",
       "    <tr>\n",
       "      <th>2</th>\n",
       "      <td>1</td>\n",
       "      <td>0</td>\n",
       "      <td>0</td>\n",
       "      <td>0</td>\n",
       "    </tr>\n",
       "    <tr>\n",
       "      <th>3</th>\n",
       "      <td>0</td>\n",
       "      <td>0</td>\n",
       "      <td>0</td>\n",
       "      <td>1</td>\n",
       "    </tr>\n",
       "    <tr>\n",
       "      <th>4</th>\n",
       "      <td>0</td>\n",
       "      <td>0</td>\n",
       "      <td>0</td>\n",
       "      <td>1</td>\n",
       "    </tr>\n",
       "  </tbody>\n",
       "</table>\n",
       "</div>"
      ],
      "text/plain": [
       "   prestige_1  prestige_2  prestige_3  prestige_4\n",
       "0           0           0           1           0\n",
       "1           0           0           1           0\n",
       "2           1           0           0           0\n",
       "3           0           0           0           1\n",
       "4           0           0           0           1"
      ]
     },
     "execution_count": 76,
     "metadata": {},
     "output_type": "execute_result"
    }
   ],
   "source": [
    "dummy_ranks = pd.get_dummies(df['prestige'], prefix='prestige') #pd.get_dummies converts a specified categorical variabe into a series of dummy vars\n",
    "dummy_ranks.head()"
   ]
  },
  {
   "cell_type": "code",
   "execution_count": 77,
   "metadata": {
    "collapsed": false
   },
   "outputs": [],
   "source": [
    "#pd.value_counts(df['prestige'])"
   ]
  },
  {
   "cell_type": "code",
   "execution_count": 78,
   "metadata": {
    "collapsed": false
   },
   "outputs": [],
   "source": [
    "data = df[['admit','gre','gpa']].join(dummy_ranks.ix[:,'prestige_2':])"
   ]
  },
  {
   "cell_type": "code",
   "execution_count": 79,
   "metadata": {
    "collapsed": false,
    "scrolled": true
   },
   "outputs": [
    {
     "data": {
      "text/html": [
       "<div>\n",
       "<table border=\"1\" class=\"dataframe\">\n",
       "  <thead>\n",
       "    <tr style=\"text-align: right;\">\n",
       "      <th></th>\n",
       "      <th>admit</th>\n",
       "      <th>gre</th>\n",
       "      <th>gpa</th>\n",
       "      <th>prestige_2</th>\n",
       "      <th>prestige_3</th>\n",
       "      <th>prestige_4</th>\n",
       "    </tr>\n",
       "  </thead>\n",
       "  <tbody>\n",
       "    <tr>\n",
       "      <th>0</th>\n",
       "      <td>0</td>\n",
       "      <td>380</td>\n",
       "      <td>3.61</td>\n",
       "      <td>0</td>\n",
       "      <td>1</td>\n",
       "      <td>0</td>\n",
       "    </tr>\n",
       "    <tr>\n",
       "      <th>1</th>\n",
       "      <td>1</td>\n",
       "      <td>660</td>\n",
       "      <td>3.67</td>\n",
       "      <td>0</td>\n",
       "      <td>1</td>\n",
       "      <td>0</td>\n",
       "    </tr>\n",
       "    <tr>\n",
       "      <th>2</th>\n",
       "      <td>1</td>\n",
       "      <td>800</td>\n",
       "      <td>4.00</td>\n",
       "      <td>0</td>\n",
       "      <td>0</td>\n",
       "      <td>0</td>\n",
       "    </tr>\n",
       "    <tr>\n",
       "      <th>3</th>\n",
       "      <td>1</td>\n",
       "      <td>640</td>\n",
       "      <td>3.19</td>\n",
       "      <td>0</td>\n",
       "      <td>0</td>\n",
       "      <td>1</td>\n",
       "    </tr>\n",
       "    <tr>\n",
       "      <th>4</th>\n",
       "      <td>0</td>\n",
       "      <td>520</td>\n",
       "      <td>2.93</td>\n",
       "      <td>0</td>\n",
       "      <td>0</td>\n",
       "      <td>1</td>\n",
       "    </tr>\n",
       "  </tbody>\n",
       "</table>\n",
       "</div>"
      ],
      "text/plain": [
       "   admit  gre   gpa  prestige_2  prestige_3  prestige_4\n",
       "0      0  380  3.61           0           1           0\n",
       "1      1  660  3.67           0           1           0\n",
       "2      1  800  4.00           0           0           0\n",
       "3      1  640  3.19           0           0           1\n",
       "4      0  520  2.93           0           0           1"
      ]
     },
     "execution_count": 79,
     "metadata": {},
     "output_type": "execute_result"
    }
   ],
   "source": [
    "data.head()"
   ]
  },
  {
   "cell_type": "code",
   "execution_count": 80,
   "metadata": {
    "collapsed": false
   },
   "outputs": [
    {
     "data": {
      "text/plain": [
       "Index(['gre', 'gpa', 'prestige_2', 'prestige_3', 'prestige_4'], dtype='object')"
      ]
     },
     "execution_count": 80,
     "metadata": {},
     "output_type": "execute_result"
    }
   ],
   "source": [
    "train_cols = data.columns[1:]\n",
    "train_cols"
   ]
  },
  {
   "cell_type": "code",
   "execution_count": 81,
   "metadata": {
    "collapsed": false
   },
   "outputs": [],
   "source": [
    "#logit = sm.Logit(data['admit'],data[train_cols]) #How to run a logit with statsmodels.Logit()"
   ]
  },
  {
   "cell_type": "code",
   "execution_count": 82,
   "metadata": {
    "collapsed": false
   },
   "outputs": [],
   "source": [
    "#result = logit.fit()"
   ]
  },
  {
   "cell_type": "code",
   "execution_count": 83,
   "metadata": {
    "collapsed": false
   },
   "outputs": [],
   "source": [
    "#summary = result.summary()"
   ]
  },
  {
   "cell_type": "code",
   "execution_count": 84,
   "metadata": {
    "collapsed": false,
    "scrolled": false
   },
   "outputs": [],
   "source": [
    "#summary"
   ]
  },
  {
   "cell_type": "code",
   "execution_count": 85,
   "metadata": {
    "collapsed": false
   },
   "outputs": [],
   "source": [
    "#type(summary)"
   ]
  },
  {
   "cell_type": "code",
   "execution_count": 86,
   "metadata": {
    "collapsed": false
   },
   "outputs": [],
   "source": [
    "# This is the sklearn way:\n",
    "# model = LogisticRegression()\n",
    "# model = model.fit(data[train_cols],data['admit'])\n",
    "# model.score(data[train_cols],data['admit'])"
   ]
  },
  {
   "cell_type": "code",
   "execution_count": 87,
   "metadata": {
    "collapsed": false
   },
   "outputs": [],
   "source": [
    "# data['admit'].mean()"
   ]
  },
  {
   "cell_type": "code",
   "execution_count": 88,
   "metadata": {
    "collapsed": false
   },
   "outputs": [],
   "source": [
    "# type(model)"
   ]
  },
  {
   "cell_type": "code",
   "execution_count": 89,
   "metadata": {
    "collapsed": false
   },
   "outputs": [],
   "source": [
    "# model"
   ]
  },
  {
   "cell_type": "code",
   "execution_count": 90,
   "metadata": {
    "collapsed": false
   },
   "outputs": [],
   "source": [
    "# model.coef_"
   ]
  },
  {
   "cell_type": "code",
   "execution_count": 91,
   "metadata": {
    "collapsed": false
   },
   "outputs": [],
   "source": [
    "# train_cols"
   ]
  },
  {
   "cell_type": "code",
   "execution_count": 92,
   "metadata": {
    "collapsed": false,
    "scrolled": true
   },
   "outputs": [
    {
     "name": "stdout",
     "output_type": "stream",
     "text": [
      "Optimization terminated successfully.\n",
      "         Current function value: 0.589306\n",
      "         Iterations 5\n"
     ]
    },
    {
     "data": {
      "text/html": [
       "<table class=\"simpletable\">\n",
       "<caption>Logit Regression Results</caption>\n",
       "<tr>\n",
       "  <th>Dep. Variable:</th>       <td>admit</td>      <th>  No. Observations:  </th>  <td>   400</td>  \n",
       "</tr>\n",
       "<tr>\n",
       "  <th>Model:</th>               <td>Logit</td>      <th>  Df Residuals:      </th>  <td>   395</td>  \n",
       "</tr>\n",
       "<tr>\n",
       "  <th>Method:</th>               <td>MLE</td>       <th>  Df Model:          </th>  <td>     4</td>  \n",
       "</tr>\n",
       "<tr>\n",
       "  <th>Date:</th>          <td>Fri, 01 Apr 2016</td> <th>  Pseudo R-squ.:     </th>  <td>0.05707</td> \n",
       "</tr>\n",
       "<tr>\n",
       "  <th>Time:</th>              <td>11:36:36</td>     <th>  Log-Likelihood:    </th> <td> -235.72</td> \n",
       "</tr>\n",
       "<tr>\n",
       "  <th>converged:</th>           <td>True</td>       <th>  LL-Null:           </th> <td> -249.99</td> \n",
       "</tr>\n",
       "<tr>\n",
       "  <th> </th>                      <td> </td>        <th>  LLR p-value:       </th> <td>9.732e-06</td>\n",
       "</tr>\n",
       "</table>\n",
       "<table class=\"simpletable\">\n",
       "<tr>\n",
       "       <td></td>         <th>coef</th>     <th>std err</th>      <th>z</th>      <th>P>|z|</th> <th>[95.0% Conf. Int.]</th> \n",
       "</tr>\n",
       "<tr>\n",
       "  <th>gre</th>        <td>    0.0014</td> <td>    0.001</td> <td>    1.329</td> <td> 0.184</td> <td>   -0.001     0.003</td>\n",
       "</tr>\n",
       "<tr>\n",
       "  <th>gpa</th>        <td>   -0.1336</td> <td>    0.194</td> <td>   -0.687</td> <td> 0.492</td> <td>   -0.515     0.248</td>\n",
       "</tr>\n",
       "<tr>\n",
       "  <th>prestige_2</th> <td>   -0.9663</td> <td>    0.300</td> <td>   -3.216</td> <td> 0.001</td> <td>   -1.555    -0.377</td>\n",
       "</tr>\n",
       "<tr>\n",
       "  <th>prestige_3</th> <td>   -1.5451</td> <td>    0.332</td> <td>   -4.648</td> <td> 0.000</td> <td>   -2.197    -0.894</td>\n",
       "</tr>\n",
       "<tr>\n",
       "  <th>prestige_4</th> <td>   -1.8776</td> <td>    0.402</td> <td>   -4.676</td> <td> 0.000</td> <td>   -2.665    -1.091</td>\n",
       "</tr>\n",
       "</table>"
      ],
      "text/plain": [
       "<class 'statsmodels.iolib.summary.Summary'>\n",
       "\"\"\"\n",
       "                           Logit Regression Results                           \n",
       "==============================================================================\n",
       "Dep. Variable:                  admit   No. Observations:                  400\n",
       "Model:                          Logit   Df Residuals:                      395\n",
       "Method:                           MLE   Df Model:                            4\n",
       "Date:                Fri, 01 Apr 2016   Pseudo R-squ.:                 0.05707\n",
       "Time:                        11:36:36   Log-Likelihood:                -235.72\n",
       "converged:                       True   LL-Null:                       -249.99\n",
       "                                        LLR p-value:                 9.732e-06\n",
       "==============================================================================\n",
       "                 coef    std err          z      P>|z|      [95.0% Conf. Int.]\n",
       "------------------------------------------------------------------------------\n",
       "gre            0.0014      0.001      1.329      0.184        -0.001     0.003\n",
       "gpa           -0.1336      0.194     -0.687      0.492        -0.515     0.248\n",
       "prestige_2    -0.9663      0.300     -3.216      0.001        -1.555    -0.377\n",
       "prestige_3    -1.5451      0.332     -4.648      0.000        -2.197    -0.894\n",
       "prestige_4    -1.8776      0.402     -4.676      0.000        -2.665    -1.091\n",
       "==============================================================================\n",
       "\"\"\""
      ]
     },
     "execution_count": 92,
     "metadata": {},
     "output_type": "execute_result"
    }
   ],
   "source": [
    "#Use statsmodels over scikit learn for p-vals\n",
    "logit = sm.Logit(data['admit'],data[train_cols]) #How to run a logit with statsmodels.Logit()\n",
    "result = logit.fit()\n",
    "summary = result.summary()\n",
    "summary"
   ]
  },
  {
   "cell_type": "code",
   "execution_count": 93,
   "metadata": {
    "collapsed": false,
    "scrolled": false
   },
   "outputs": [
    {
     "name": "stdout",
     "output_type": "stream",
     "text": [
      "<class 'pandas.core.frame.DataFrame'>\n",
      "Int64Index: 400 entries, 0 to 399\n",
      "Data columns (total 6 columns):\n",
      "admit         400 non-null int64\n",
      "gre           400 non-null int64\n",
      "gpa           400 non-null float64\n",
      "prestige_2    400 non-null float64\n",
      "prestige_3    400 non-null float64\n",
      "prestige_4    400 non-null float64\n",
      "dtypes: float64(4), int64(2)\n",
      "memory usage: 21.9 KB\n"
     ]
    }
   ],
   "source": [
    "data.info()"
   ]
  },
  {
   "cell_type": "code",
   "execution_count": 94,
   "metadata": {
    "collapsed": false
   },
   "outputs": [
    {
     "data": {
      "text/html": [
       "<div>\n",
       "<table border=\"1\" class=\"dataframe\">\n",
       "  <thead>\n",
       "    <tr style=\"text-align: right;\">\n",
       "      <th></th>\n",
       "      <th>0</th>\n",
       "    </tr>\n",
       "  </thead>\n",
       "  <tbody>\n",
       "    <tr>\n",
       "      <th>gre</th>\n",
       "      <td>0.183932</td>\n",
       "    </tr>\n",
       "    <tr>\n",
       "      <th>gpa</th>\n",
       "      <td>0.492152</td>\n",
       "    </tr>\n",
       "    <tr>\n",
       "      <th>prestige_2</th>\n",
       "      <td>0.001298</td>\n",
       "    </tr>\n",
       "    <tr>\n",
       "      <th>prestige_3</th>\n",
       "      <td>0.000003</td>\n",
       "    </tr>\n",
       "    <tr>\n",
       "      <th>prestige_4</th>\n",
       "      <td>0.000003</td>\n",
       "    </tr>\n",
       "  </tbody>\n",
       "</table>\n",
       "</div>"
      ],
      "text/plain": [
       "                   0\n",
       "gre         0.183932\n",
       "gpa         0.492152\n",
       "prestige_2  0.001298\n",
       "prestige_3  0.000003\n",
       "prestige_4  0.000003"
      ]
     },
     "execution_count": 94,
     "metadata": {},
     "output_type": "execute_result"
    }
   ],
   "source": [
    "pd.DataFrame(result.pvalues)"
   ]
  },
  {
   "cell_type": "code",
   "execution_count": 107,
   "metadata": {
    "collapsed": false
   },
   "outputs": [
    {
     "data": {
      "text/plain": [
       "[0, 1, 2, 3, 4]"
      ]
     },
     "execution_count": 107,
     "metadata": {},
     "output_type": "execute_result"
    }
   ],
   "source": [
    "numConditions=5\n",
    "conditionCodes = list(range(numConditions))\n",
    "conditionCodes"
   ]
  },
  {
   "cell_type": "code",
   "execution_count": 108,
   "metadata": {
    "collapsed": false
   },
   "outputs": [
    {
     "data": {
      "text/plain": [
       "2"
      ]
     },
     "execution_count": 108,
     "metadata": {},
     "output_type": "execute_result"
    }
   ],
   "source": [
    "startCode = np.random.choice(conditionCodes)\n",
    "startCode"
   ]
  },
  {
   "cell_type": "code",
   "execution_count": 109,
   "metadata": {
    "collapsed": true
   },
   "outputs": [],
   "source": [
    "assignList = conditionCodes[startCode:] + conditionCodes[:startCode]"
   ]
  },
  {
   "cell_type": "code",
   "execution_count": 110,
   "metadata": {
    "collapsed": false
   },
   "outputs": [],
   "source": [
    "assignList = ((len(data)//numConditions)*assignList) + assignList[:(len(data)%numConditions)]"
   ]
  },
  {
   "cell_type": "code",
   "execution_count": 111,
   "metadata": {
    "collapsed": false
   },
   "outputs": [
    {
     "data": {
      "text/plain": [
       "400"
      ]
     },
     "execution_count": 111,
     "metadata": {},
     "output_type": "execute_result"
    }
   ],
   "source": [
    "len(assignList)"
   ]
  },
  {
   "cell_type": "code",
   "execution_count": 112,
   "metadata": {
    "collapsed": true
   },
   "outputs": [],
   "source": [
    "data['condition'] = assignList"
   ]
  },
  {
   "cell_type": "code",
   "execution_count": 113,
   "metadata": {
    "collapsed": false,
    "scrolled": true
   },
   "outputs": [
    {
     "data": {
      "text/html": [
       "<div>\n",
       "<table border=\"1\" class=\"dataframe\">\n",
       "  <thead>\n",
       "    <tr style=\"text-align: right;\">\n",
       "      <th></th>\n",
       "      <th>admit</th>\n",
       "      <th>gre</th>\n",
       "      <th>gpa</th>\n",
       "      <th>prestige_2</th>\n",
       "      <th>prestige_3</th>\n",
       "      <th>prestige_4</th>\n",
       "      <th>condition</th>\n",
       "    </tr>\n",
       "  </thead>\n",
       "  <tbody>\n",
       "    <tr>\n",
       "      <th>0</th>\n",
       "      <td>0</td>\n",
       "      <td>380</td>\n",
       "      <td>3.61</td>\n",
       "      <td>0</td>\n",
       "      <td>1</td>\n",
       "      <td>0</td>\n",
       "      <td>2</td>\n",
       "    </tr>\n",
       "    <tr>\n",
       "      <th>1</th>\n",
       "      <td>1</td>\n",
       "      <td>660</td>\n",
       "      <td>3.67</td>\n",
       "      <td>0</td>\n",
       "      <td>1</td>\n",
       "      <td>0</td>\n",
       "      <td>3</td>\n",
       "    </tr>\n",
       "    <tr>\n",
       "      <th>2</th>\n",
       "      <td>1</td>\n",
       "      <td>800</td>\n",
       "      <td>4.00</td>\n",
       "      <td>0</td>\n",
       "      <td>0</td>\n",
       "      <td>0</td>\n",
       "      <td>4</td>\n",
       "    </tr>\n",
       "    <tr>\n",
       "      <th>3</th>\n",
       "      <td>1</td>\n",
       "      <td>640</td>\n",
       "      <td>3.19</td>\n",
       "      <td>0</td>\n",
       "      <td>0</td>\n",
       "      <td>1</td>\n",
       "      <td>0</td>\n",
       "    </tr>\n",
       "    <tr>\n",
       "      <th>4</th>\n",
       "      <td>0</td>\n",
       "      <td>520</td>\n",
       "      <td>2.93</td>\n",
       "      <td>0</td>\n",
       "      <td>0</td>\n",
       "      <td>1</td>\n",
       "      <td>1</td>\n",
       "    </tr>\n",
       "  </tbody>\n",
       "</table>\n",
       "</div>"
      ],
      "text/plain": [
       "   admit  gre   gpa  prestige_2  prestige_3  prestige_4  condition\n",
       "0      0  380  3.61           0           1           0          2\n",
       "1      1  660  3.67           0           1           0          3\n",
       "2      1  800  4.00           0           0           0          4\n",
       "3      1  640  3.19           0           0           1          0\n",
       "4      0  520  2.93           0           0           1          1"
      ]
     },
     "execution_count": 113,
     "metadata": {},
     "output_type": "execute_result"
    }
   ],
   "source": [
    "#Now try multinomial logit of condition on gre, gpa, prestige_2, prestige_3, prestige_4 \n",
    "data.head()"
   ]
  },
  {
   "cell_type": "code",
   "execution_count": 114,
   "metadata": {
    "collapsed": false
   },
   "outputs": [],
   "source": [
    "# # Run logit of treat 1 on control - compare to results from mlogit test\n",
    "# data_treat1 = data[data['condition']!=2]\n",
    "# data_treat1.describe()"
   ]
  },
  {
   "cell_type": "code",
   "execution_count": 115,
   "metadata": {
    "collapsed": false
   },
   "outputs": [],
   "source": [
    "# logit_treat1 = sm.Logit(data_treat1['condition'],data_treat1[train_cols]) #How to run a logit with statsmodels.Logit()\n",
    "# result_treat1 = logit_treat1.fit()\n",
    "# summary_treat1 = result_treat1.summary()\n",
    "# summary_treat1"
   ]
  },
  {
   "cell_type": "code",
   "execution_count": 116,
   "metadata": {
    "collapsed": false,
    "scrolled": true
   },
   "outputs": [
    {
     "name": "stdout",
     "output_type": "stream",
     "text": [
      "Optimization terminated successfully.\n",
      "         Current function value: 1.602087\n",
      "         Iterations 5\n"
     ]
    },
    {
     "data": {
      "text/html": [
       "<table class=\"simpletable\">\n",
       "<caption>MNLogit Regression Results</caption>\n",
       "<tr>\n",
       "  <th>Dep. Variable:</th>     <td>condition</td>    <th>  No. Observations:  </th>  <td>   400</td> \n",
       "</tr>\n",
       "<tr>\n",
       "  <th>Model:</th>              <td>MNLogit</td>     <th>  Df Residuals:      </th>  <td>   380</td> \n",
       "</tr>\n",
       "<tr>\n",
       "  <th>Method:</th>               <td>MLE</td>       <th>  Df Model:          </th>  <td>    16</td> \n",
       "</tr>\n",
       "<tr>\n",
       "  <th>Date:</th>          <td>Fri, 01 Apr 2016</td> <th>  Pseudo R-squ.:     </th> <td>0.004568</td>\n",
       "</tr>\n",
       "<tr>\n",
       "  <th>Time:</th>              <td>11:37:52</td>     <th>  Log-Likelihood:    </th> <td> -640.83</td>\n",
       "</tr>\n",
       "<tr>\n",
       "  <th>converged:</th>           <td>True</td>       <th>  LL-Null:           </th> <td> -643.78</td>\n",
       "</tr>\n",
       "<tr>\n",
       "  <th> </th>                      <td> </td>        <th>  LLR p-value:       </th>  <td>0.9893</td> \n",
       "</tr>\n",
       "</table>\n",
       "<table class=\"simpletable\">\n",
       "<tr>\n",
       "  <th>condition=1</th>    <th>coef</th>     <th>std err</th>      <th>z</th>      <th>P>|z|</th> <th>[95.0% Conf. Int.]</th> \n",
       "</tr>\n",
       "<tr>\n",
       "  <th>gre</th>         <td>   -0.0007</td> <td>    0.001</td> <td>   -0.449</td> <td> 0.654</td> <td>   -0.004     0.002</td>\n",
       "</tr>\n",
       "<tr>\n",
       "  <th>gpa</th>         <td>    0.1393</td> <td>    0.277</td> <td>    0.502</td> <td> 0.616</td> <td>   -0.404     0.683</td>\n",
       "</tr>\n",
       "<tr>\n",
       "  <th>prestige_2</th>  <td>   -0.2455</td> <td>    0.451</td> <td>   -0.544</td> <td> 0.586</td> <td>   -1.129     0.639</td>\n",
       "</tr>\n",
       "<tr>\n",
       "  <th>prestige_3</th>  <td>    0.1057</td> <td>    0.473</td> <td>    0.224</td> <td> 0.823</td> <td>   -0.821     1.033</td>\n",
       "</tr>\n",
       "<tr>\n",
       "  <th>prestige_4</th>  <td>   -0.1666</td> <td>    0.540</td> <td>   -0.308</td> <td> 0.758</td> <td>   -1.225     0.892</td>\n",
       "</tr>\n",
       "<tr>\n",
       "  <th>condition=2</th>    <th>coef</th>     <th>std err</th>      <th>z</th>      <th>P>|z|</th> <th>[95.0% Conf. Int.]</th> \n",
       "</tr>\n",
       "<tr>\n",
       "  <th>gre</th>         <td>    0.0011</td> <td>    0.001</td> <td>    0.732</td> <td> 0.464</td> <td>   -0.002     0.004</td>\n",
       "</tr>\n",
       "<tr>\n",
       "  <th>gpa</th>         <td>   -0.2779</td> <td>    0.282</td> <td>   -0.984</td> <td> 0.325</td> <td>   -0.832     0.276</td>\n",
       "</tr>\n",
       "<tr>\n",
       "  <th>prestige_2</th>  <td>    0.2540</td> <td>    0.474</td> <td>    0.536</td> <td> 0.592</td> <td>   -0.675     1.183</td>\n",
       "</tr>\n",
       "<tr>\n",
       "  <th>prestige_3</th>  <td>    0.5710</td> <td>    0.500</td> <td>    1.141</td> <td> 0.254</td> <td>   -0.409     1.551</td>\n",
       "</tr>\n",
       "<tr>\n",
       "  <th>prestige_4</th>  <td>    0.3001</td> <td>    0.557</td> <td>    0.538</td> <td> 0.590</td> <td>   -0.792     1.393</td>\n",
       "</tr>\n",
       "<tr>\n",
       "  <th>condition=3</th>    <th>coef</th>     <th>std err</th>      <th>z</th>      <th>P>|z|</th> <th>[95.0% Conf. Int.]</th> \n",
       "</tr>\n",
       "<tr>\n",
       "  <th>gre</th>         <td>    0.0002</td> <td>    0.001</td> <td>    0.168</td> <td> 0.866</td> <td>   -0.003     0.003</td>\n",
       "</tr>\n",
       "<tr>\n",
       "  <th>gpa</th>         <td>   -0.0400</td> <td>    0.279</td> <td>   -0.143</td> <td> 0.886</td> <td>   -0.587     0.507</td>\n",
       "</tr>\n",
       "<tr>\n",
       "  <th>prestige_2</th>  <td>   -0.0457</td> <td>    0.450</td> <td>   -0.102</td> <td> 0.919</td> <td>   -0.927     0.836</td>\n",
       "</tr>\n",
       "<tr>\n",
       "  <th>prestige_3</th>  <td>   -0.0059</td> <td>    0.486</td> <td>   -0.012</td> <td> 0.990</td> <td>   -0.958     0.947</td>\n",
       "</tr>\n",
       "<tr>\n",
       "  <th>prestige_4</th>  <td>   -0.0095</td> <td>    0.537</td> <td>   -0.018</td> <td> 0.986</td> <td>   -1.062     1.043</td>\n",
       "</tr>\n",
       "<tr>\n",
       "  <th>condition=4</th>    <th>coef</th>     <th>std err</th>      <th>z</th>      <th>P>|z|</th> <th>[95.0% Conf. Int.]</th> \n",
       "</tr>\n",
       "<tr>\n",
       "  <th>gre</th>         <td>   -0.0008</td> <td>    0.001</td> <td>   -0.526</td> <td> 0.599</td> <td>   -0.004     0.002</td>\n",
       "</tr>\n",
       "<tr>\n",
       "  <th>gpa</th>         <td>    0.1288</td> <td>    0.277</td> <td>    0.466</td> <td> 0.641</td> <td>   -0.413     0.671</td>\n",
       "</tr>\n",
       "<tr>\n",
       "  <th>prestige_2</th>  <td>   -0.0399</td> <td>    0.454</td> <td>   -0.088</td> <td> 0.930</td> <td>   -0.930     0.850</td>\n",
       "</tr>\n",
       "<tr>\n",
       "  <th>prestige_3</th>  <td>   -0.0005</td> <td>    0.489</td> <td>   -0.001</td> <td> 0.999</td> <td>   -0.958     0.957</td>\n",
       "</tr>\n",
       "<tr>\n",
       "  <th>prestige_4</th>  <td>    0.2179</td> <td>    0.526</td> <td>    0.414</td> <td> 0.679</td> <td>   -0.814     1.250</td>\n",
       "</tr>\n",
       "</table>"
      ],
      "text/plain": [
       "<class 'statsmodels.iolib.summary.Summary'>\n",
       "\"\"\"\n",
       "                          MNLogit Regression Results                          \n",
       "==============================================================================\n",
       "Dep. Variable:              condition   No. Observations:                  400\n",
       "Model:                        MNLogit   Df Residuals:                      380\n",
       "Method:                           MLE   Df Model:                           16\n",
       "Date:                Fri, 01 Apr 2016   Pseudo R-squ.:                0.004568\n",
       "Time:                        11:37:52   Log-Likelihood:                -640.83\n",
       "converged:                       True   LL-Null:                       -643.78\n",
       "                                        LLR p-value:                    0.9893\n",
       "===============================================================================\n",
       "condition=1       coef    std err          z      P>|z|      [95.0% Conf. Int.]\n",
       "-------------------------------------------------------------------------------\n",
       "gre            -0.0007      0.001     -0.449      0.654        -0.004     0.002\n",
       "gpa             0.1393      0.277      0.502      0.616        -0.404     0.683\n",
       "prestige_2     -0.2455      0.451     -0.544      0.586        -1.129     0.639\n",
       "prestige_3      0.1057      0.473      0.224      0.823        -0.821     1.033\n",
       "prestige_4     -0.1666      0.540     -0.308      0.758        -1.225     0.892\n",
       "-------------------------------------------------------------------------------\n",
       "condition=2       coef    std err          z      P>|z|      [95.0% Conf. Int.]\n",
       "-------------------------------------------------------------------------------\n",
       "gre             0.0011      0.001      0.732      0.464        -0.002     0.004\n",
       "gpa            -0.2779      0.282     -0.984      0.325        -0.832     0.276\n",
       "prestige_2      0.2540      0.474      0.536      0.592        -0.675     1.183\n",
       "prestige_3      0.5710      0.500      1.141      0.254        -0.409     1.551\n",
       "prestige_4      0.3001      0.557      0.538      0.590        -0.792     1.393\n",
       "-------------------------------------------------------------------------------\n",
       "condition=3       coef    std err          z      P>|z|      [95.0% Conf. Int.]\n",
       "-------------------------------------------------------------------------------\n",
       "gre             0.0002      0.001      0.168      0.866        -0.003     0.003\n",
       "gpa            -0.0400      0.279     -0.143      0.886        -0.587     0.507\n",
       "prestige_2     -0.0457      0.450     -0.102      0.919        -0.927     0.836\n",
       "prestige_3     -0.0059      0.486     -0.012      0.990        -0.958     0.947\n",
       "prestige_4     -0.0095      0.537     -0.018      0.986        -1.062     1.043\n",
       "-------------------------------------------------------------------------------\n",
       "condition=4       coef    std err          z      P>|z|      [95.0% Conf. Int.]\n",
       "-------------------------------------------------------------------------------\n",
       "gre            -0.0008      0.001     -0.526      0.599        -0.004     0.002\n",
       "gpa             0.1288      0.277      0.466      0.641        -0.413     0.671\n",
       "prestige_2     -0.0399      0.454     -0.088      0.930        -0.930     0.850\n",
       "prestige_3     -0.0005      0.489     -0.001      0.999        -0.958     0.957\n",
       "prestige_4      0.2179      0.526      0.414      0.679        -0.814     1.250\n",
       "===============================================================================\n",
       "\"\"\""
      ]
     },
     "execution_count": 116,
     "metadata": {},
     "output_type": "execute_result"
    }
   ],
   "source": [
    "# Multinomial Logit with statsmodels -- use when there are more than 2 conditions; works for logit, too :)\n",
    "mlogit = sm.MNLogit(data['condition'],data[train_cols])\n",
    "mresult = mlogit.fit()\n",
    "msummary = mresult.summary()\n",
    "msummary"
   ]
  },
  {
   "cell_type": "code",
   "execution_count": 133,
   "metadata": {
    "collapsed": false
   },
   "outputs": [
    {
     "data": {
      "text/html": [
       "<div>\n",
       "<table border=\"1\" class=\"dataframe\">\n",
       "  <thead>\n",
       "    <tr style=\"text-align: right;\">\n",
       "      <th></th>\n",
       "      <th>0</th>\n",
       "      <th>1</th>\n",
       "      <th>2</th>\n",
       "      <th>3</th>\n",
       "    </tr>\n",
       "  </thead>\n",
       "  <tbody>\n",
       "    <tr>\n",
       "      <th>gre</th>\n",
       "      <td>0.653563</td>\n",
       "      <td>0.464278</td>\n",
       "      <td>0.866205</td>\n",
       "      <td>0.598899</td>\n",
       "    </tr>\n",
       "    <tr>\n",
       "      <th>gpa</th>\n",
       "      <td>0.615592</td>\n",
       "      <td>0.325172</td>\n",
       "      <td>0.885948</td>\n",
       "      <td>0.641335</td>\n",
       "    </tr>\n",
       "    <tr>\n",
       "      <th>prestige_2</th>\n",
       "      <td>0.586249</td>\n",
       "      <td>0.592151</td>\n",
       "      <td>0.919057</td>\n",
       "      <td>0.930077</td>\n",
       "    </tr>\n",
       "    <tr>\n",
       "      <th>prestige_3</th>\n",
       "      <td>0.823133</td>\n",
       "      <td>0.253663</td>\n",
       "      <td>0.990348</td>\n",
       "      <td>0.999163</td>\n",
       "    </tr>\n",
       "    <tr>\n",
       "      <th>prestige_4</th>\n",
       "      <td>0.757721</td>\n",
       "      <td>0.590323</td>\n",
       "      <td>0.985899</td>\n",
       "      <td>0.678895</td>\n",
       "    </tr>\n",
       "  </tbody>\n",
       "</table>\n",
       "</div>"
      ],
      "text/plain": [
       "                   0         1         2         3\n",
       "gre         0.653563  0.464278  0.866205  0.598899\n",
       "gpa         0.615592  0.325172  0.885948  0.641335\n",
       "prestige_2  0.586249  0.592151  0.919057  0.930077\n",
       "prestige_3  0.823133  0.253663  0.990348  0.999163\n",
       "prestige_4  0.757721  0.590323  0.985899  0.678895"
      ]
     },
     "execution_count": 133,
     "metadata": {},
     "output_type": "execute_result"
    }
   ],
   "source": [
    "pVals = mresult.pvalues\n",
    "pVals\n",
    "#Columns are labeled by index which is confusion -- correspond to the (column# + 1) condition"
   ]
  },
  {
   "cell_type": "code",
   "execution_count": 134,
   "metadata": {
    "collapsed": false
   },
   "outputs": [],
   "source": [
    "pVals.columns = conditionCodes[1:] #Rename columns to correspond to conditions\n",
    "pVals=pVals.reset_index()\n",
    "pVals.rename(columns={'index':'variable'},inplace=True)"
   ]
  },
  {
   "cell_type": "code",
   "execution_count": 135,
   "metadata": {
    "collapsed": false
   },
   "outputs": [
    {
     "data": {
      "text/html": [
       "<div>\n",
       "<table border=\"1\" class=\"dataframe\">\n",
       "  <thead>\n",
       "    <tr style=\"text-align: right;\">\n",
       "      <th></th>\n",
       "      <th>variable</th>\n",
       "      <th>1</th>\n",
       "      <th>2</th>\n",
       "      <th>3</th>\n",
       "      <th>4</th>\n",
       "    </tr>\n",
       "  </thead>\n",
       "  <tbody>\n",
       "    <tr>\n",
       "      <th>0</th>\n",
       "      <td>gre</td>\n",
       "      <td>0.653563</td>\n",
       "      <td>0.464278</td>\n",
       "      <td>0.866205</td>\n",
       "      <td>0.598899</td>\n",
       "    </tr>\n",
       "    <tr>\n",
       "      <th>1</th>\n",
       "      <td>gpa</td>\n",
       "      <td>0.615592</td>\n",
       "      <td>0.325172</td>\n",
       "      <td>0.885948</td>\n",
       "      <td>0.641335</td>\n",
       "    </tr>\n",
       "    <tr>\n",
       "      <th>2</th>\n",
       "      <td>prestige_2</td>\n",
       "      <td>0.586249</td>\n",
       "      <td>0.592151</td>\n",
       "      <td>0.919057</td>\n",
       "      <td>0.930077</td>\n",
       "    </tr>\n",
       "    <tr>\n",
       "      <th>3</th>\n",
       "      <td>prestige_3</td>\n",
       "      <td>0.823133</td>\n",
       "      <td>0.253663</td>\n",
       "      <td>0.990348</td>\n",
       "      <td>0.999163</td>\n",
       "    </tr>\n",
       "    <tr>\n",
       "      <th>4</th>\n",
       "      <td>prestige_4</td>\n",
       "      <td>0.757721</td>\n",
       "      <td>0.590323</td>\n",
       "      <td>0.985899</td>\n",
       "      <td>0.678895</td>\n",
       "    </tr>\n",
       "  </tbody>\n",
       "</table>\n",
       "</div>"
      ],
      "text/plain": [
       "     variable         1         2         3         4\n",
       "0         gre  0.653563  0.464278  0.866205  0.598899\n",
       "1         gpa  0.615592  0.325172  0.885948  0.641335\n",
       "2  prestige_2  0.586249  0.592151  0.919057  0.930077\n",
       "3  prestige_3  0.823133  0.253663  0.990348  0.999163\n",
       "4  prestige_4  0.757721  0.590323  0.985899  0.678895"
      ]
     },
     "execution_count": 135,
     "metadata": {},
     "output_type": "execute_result"
    }
   ],
   "source": [
    "pVals"
   ]
  },
  {
   "cell_type": "code",
   "execution_count": 137,
   "metadata": {
    "collapsed": false,
    "scrolled": true
   },
   "outputs": [
    {
     "name": "stdout",
     "output_type": "stream",
     "text": [
      "0.6535625364300499\n",
      "0.6155917457024278\n",
      "0.5862490265123474\n",
      "0.8231334297028365\n",
      "0.7577208148632719\n"
     ]
    }
   ],
   "source": [
    "#Sample syntax\n",
    "for index, row in pVals.iterrows():\n",
    "     print(row[1])"
   ]
  },
  {
   "cell_type": "code",
   "execution_count": 144,
   "metadata": {
    "collapsed": false
   },
   "outputs": [],
   "source": [
    "#Next: check in any values are <= .05; if they are - randomize again!"
   ]
  },
  {
   "cell_type": "code",
   "execution_count": null,
   "metadata": {
    "collapsed": true
   },
   "outputs": [],
   "source": []
  }
 ],
 "metadata": {
  "kernelspec": {
   "display_name": "Python 3",
   "language": "python",
   "name": "python3"
  },
  "language_info": {
   "codemirror_mode": {
    "name": "ipython",
    "version": 3
   },
   "file_extension": ".py",
   "mimetype": "text/x-python",
   "name": "python",
   "nbconvert_exporter": "python",
   "pygments_lexer": "ipython3",
   "version": "3.4.3"
  }
 },
 "nbformat": 4,
 "nbformat_minor": 0
}
