{
 "cells": [
  {
   "cell_type": "code",
   "execution_count": 7,
   "metadata": {
    "collapsed": true
   },
   "outputs": [],
   "source": [
    "import pandas as pd\n",
    "import numpy as np\n",
    "import statsmodels.api as sm"
   ]
  },
  {
   "cell_type": "code",
   "execution_count": 10,
   "metadata": {
    "collapsed": true
   },
   "outputs": [],
   "source": [
    "# read the data in\n",
    "df = pd.read_csv(\"http://www.ats.ucla.edu/stat/data/binary.csv\")"
   ]
  },
  {
   "cell_type": "code",
   "execution_count": 11,
   "metadata": {
    "collapsed": false
   },
   "outputs": [],
   "source": [
    "df.columns=['admit','gre','gpa','prestige']"
   ]
  },
  {
   "cell_type": "code",
   "execution_count": 12,
   "metadata": {
    "collapsed": false
   },
   "outputs": [
    {
     "data": {
      "text/html": [
       "<div>\n",
       "<table border=\"1\" class=\"dataframe\">\n",
       "  <thead>\n",
       "    <tr style=\"text-align: right;\">\n",
       "      <th></th>\n",
       "      <th>prestige_1</th>\n",
       "      <th>prestige_2</th>\n",
       "      <th>prestige_3</th>\n",
       "      <th>prestige_4</th>\n",
       "    </tr>\n",
       "  </thead>\n",
       "  <tbody>\n",
       "    <tr>\n",
       "      <th>0</th>\n",
       "      <td>0</td>\n",
       "      <td>0</td>\n",
       "      <td>1</td>\n",
       "      <td>0</td>\n",
       "    </tr>\n",
       "    <tr>\n",
       "      <th>1</th>\n",
       "      <td>0</td>\n",
       "      <td>0</td>\n",
       "      <td>1</td>\n",
       "      <td>0</td>\n",
       "    </tr>\n",
       "    <tr>\n",
       "      <th>2</th>\n",
       "      <td>1</td>\n",
       "      <td>0</td>\n",
       "      <td>0</td>\n",
       "      <td>0</td>\n",
       "    </tr>\n",
       "    <tr>\n",
       "      <th>3</th>\n",
       "      <td>0</td>\n",
       "      <td>0</td>\n",
       "      <td>0</td>\n",
       "      <td>1</td>\n",
       "    </tr>\n",
       "    <tr>\n",
       "      <th>4</th>\n",
       "      <td>0</td>\n",
       "      <td>0</td>\n",
       "      <td>0</td>\n",
       "      <td>1</td>\n",
       "    </tr>\n",
       "  </tbody>\n",
       "</table>\n",
       "</div>"
      ],
      "text/plain": [
       "   prestige_1  prestige_2  prestige_3  prestige_4\n",
       "0           0           0           1           0\n",
       "1           0           0           1           0\n",
       "2           1           0           0           0\n",
       "3           0           0           0           1\n",
       "4           0           0           0           1"
      ]
     },
     "execution_count": 12,
     "metadata": {},
     "output_type": "execute_result"
    }
   ],
   "source": [
    "dummy_ranks = pd.get_dummies(df['prestige'], prefix='prestige') #pd.get_dummies converts a specified categorical variabe into a series of dummy vars\n",
    "dummy_ranks.head()"
   ]
  },
  {
   "cell_type": "code",
   "execution_count": 13,
   "metadata": {
    "collapsed": false
   },
   "outputs": [],
   "source": [
    "data = df[['admit','gre','gpa']].join(dummy_ranks.ix[:,'prestige_2':])"
   ]
  },
  {
   "cell_type": "code",
   "execution_count": 14,
   "metadata": {
    "collapsed": false
   },
   "outputs": [
    {
     "data": {
      "text/plain": [
       "Index(['gre', 'gpa', 'prestige_2', 'prestige_3', 'prestige_4'], dtype='object')"
      ]
     },
     "execution_count": 14,
     "metadata": {},
     "output_type": "execute_result"
    }
   ],
   "source": [
    "train_cols = data.columns[1:]\n",
    "train_cols"
   ]
  },
  {
   "cell_type": "code",
   "execution_count": 15,
   "metadata": {
    "collapsed": false
   },
   "outputs": [
    {
     "data": {
      "text/plain": [
       "[0, 1, 2, 3, 4]"
      ]
     },
     "execution_count": 15,
     "metadata": {},
     "output_type": "execute_result"
    }
   ],
   "source": [
    "numConditions=5\n",
    "conditionCodes = list(range(numConditions))\n",
    "conditionCodes"
   ]
  },
  {
   "cell_type": "code",
   "execution_count": 16,
   "metadata": {
    "collapsed": false
   },
   "outputs": [
    {
     "data": {
      "text/plain": [
       "0"
      ]
     },
     "execution_count": 16,
     "metadata": {},
     "output_type": "execute_result"
    }
   ],
   "source": [
    "startCode = np.random.choice(conditionCodes)\n",
    "startCode"
   ]
  },
  {
   "cell_type": "code",
   "execution_count": 17,
   "metadata": {
    "collapsed": true
   },
   "outputs": [],
   "source": [
    "assignList = conditionCodes[startCode:] + conditionCodes[:startCode]"
   ]
  },
  {
   "cell_type": "code",
   "execution_count": 18,
   "metadata": {
    "collapsed": false
   },
   "outputs": [],
   "source": [
    "assignList = ((len(data)//numConditions)*assignList) + assignList[:(len(data)%numConditions)]"
   ]
  },
  {
   "cell_type": "code",
   "execution_count": 19,
   "metadata": {
    "collapsed": false
   },
   "outputs": [
    {
     "data": {
      "text/plain": [
       "400"
      ]
     },
     "execution_count": 19,
     "metadata": {},
     "output_type": "execute_result"
    }
   ],
   "source": [
    "len(assignList)"
   ]
  },
  {
   "cell_type": "code",
   "execution_count": 20,
   "metadata": {
    "collapsed": true
   },
   "outputs": [],
   "source": [
    "data['condition'] = assignList"
   ]
  },
  {
   "cell_type": "code",
   "execution_count": 21,
   "metadata": {
    "collapsed": false,
    "scrolled": true
   },
   "outputs": [
    {
     "data": {
      "text/html": [
       "<div>\n",
       "<table border=\"1\" class=\"dataframe\">\n",
       "  <thead>\n",
       "    <tr style=\"text-align: right;\">\n",
       "      <th></th>\n",
       "      <th>admit</th>\n",
       "      <th>gre</th>\n",
       "      <th>gpa</th>\n",
       "      <th>prestige_2</th>\n",
       "      <th>prestige_3</th>\n",
       "      <th>prestige_4</th>\n",
       "      <th>condition</th>\n",
       "    </tr>\n",
       "  </thead>\n",
       "  <tbody>\n",
       "    <tr>\n",
       "      <th>0</th>\n",
       "      <td>0</td>\n",
       "      <td>380</td>\n",
       "      <td>3.61</td>\n",
       "      <td>0</td>\n",
       "      <td>1</td>\n",
       "      <td>0</td>\n",
       "      <td>0</td>\n",
       "    </tr>\n",
       "    <tr>\n",
       "      <th>1</th>\n",
       "      <td>1</td>\n",
       "      <td>660</td>\n",
       "      <td>3.67</td>\n",
       "      <td>0</td>\n",
       "      <td>1</td>\n",
       "      <td>0</td>\n",
       "      <td>1</td>\n",
       "    </tr>\n",
       "    <tr>\n",
       "      <th>2</th>\n",
       "      <td>1</td>\n",
       "      <td>800</td>\n",
       "      <td>4.00</td>\n",
       "      <td>0</td>\n",
       "      <td>0</td>\n",
       "      <td>0</td>\n",
       "      <td>2</td>\n",
       "    </tr>\n",
       "    <tr>\n",
       "      <th>3</th>\n",
       "      <td>1</td>\n",
       "      <td>640</td>\n",
       "      <td>3.19</td>\n",
       "      <td>0</td>\n",
       "      <td>0</td>\n",
       "      <td>1</td>\n",
       "      <td>3</td>\n",
       "    </tr>\n",
       "    <tr>\n",
       "      <th>4</th>\n",
       "      <td>0</td>\n",
       "      <td>520</td>\n",
       "      <td>2.93</td>\n",
       "      <td>0</td>\n",
       "      <td>0</td>\n",
       "      <td>1</td>\n",
       "      <td>4</td>\n",
       "    </tr>\n",
       "  </tbody>\n",
       "</table>\n",
       "</div>"
      ],
      "text/plain": [
       "   admit  gre   gpa  prestige_2  prestige_3  prestige_4  condition\n",
       "0      0  380  3.61           0           1           0          0\n",
       "1      1  660  3.67           0           1           0          1\n",
       "2      1  800  4.00           0           0           0          2\n",
       "3      1  640  3.19           0           0           1          3\n",
       "4      0  520  2.93           0           0           1          4"
      ]
     },
     "execution_count": 21,
     "metadata": {},
     "output_type": "execute_result"
    }
   ],
   "source": [
    "#Now try multinomial logit of condition on gre, gpa, prestige_2, prestige_3, prestige_4 \n",
    "data.head()"
   ]
  },
  {
   "cell_type": "code",
   "execution_count": 22,
   "metadata": {
    "collapsed": false,
    "scrolled": true
   },
   "outputs": [
    {
     "name": "stdout",
     "output_type": "stream",
     "text": [
      "Optimization terminated successfully.\n",
      "         Current function value: 1.602087\n",
      "         Iterations 5\n"
     ]
    },
    {
     "data": {
      "text/html": [
       "<table class=\"simpletable\">\n",
       "<caption>MNLogit Regression Results</caption>\n",
       "<tr>\n",
       "  <th>Dep. Variable:</th>     <td>condition</td>    <th>  No. Observations:  </th>  <td>   400</td> \n",
       "</tr>\n",
       "<tr>\n",
       "  <th>Model:</th>              <td>MNLogit</td>     <th>  Df Residuals:      </th>  <td>   380</td> \n",
       "</tr>\n",
       "<tr>\n",
       "  <th>Method:</th>               <td>MLE</td>       <th>  Df Model:          </th>  <td>    16</td> \n",
       "</tr>\n",
       "<tr>\n",
       "  <th>Date:</th>          <td>Thu, 07 Apr 2016</td> <th>  Pseudo R-squ.:     </th> <td>0.004568</td>\n",
       "</tr>\n",
       "<tr>\n",
       "  <th>Time:</th>              <td>15:09:32</td>     <th>  Log-Likelihood:    </th> <td> -640.83</td>\n",
       "</tr>\n",
       "<tr>\n",
       "  <th>converged:</th>           <td>True</td>       <th>  LL-Null:           </th> <td> -643.78</td>\n",
       "</tr>\n",
       "<tr>\n",
       "  <th> </th>                      <td> </td>        <th>  LLR p-value:       </th>  <td>0.9893</td> \n",
       "</tr>\n",
       "</table>\n",
       "<table class=\"simpletable\">\n",
       "<tr>\n",
       "  <th>condition=1</th>    <th>coef</th>     <th>std err</th>      <th>z</th>      <th>P>|z|</th> <th>[95.0% Conf. Int.]</th> \n",
       "</tr>\n",
       "<tr>\n",
       "  <th>gre</th>         <td>   -0.0008</td> <td>    0.001</td> <td>   -0.562</td> <td> 0.574</td> <td>   -0.004     0.002</td>\n",
       "</tr>\n",
       "<tr>\n",
       "  <th>gpa</th>         <td>    0.2379</td> <td>    0.283</td> <td>    0.840</td> <td> 0.401</td> <td>   -0.317     0.793</td>\n",
       "</tr>\n",
       "<tr>\n",
       "  <th>prestige_2</th>  <td>   -0.2997</td> <td>    0.474</td> <td>   -0.632</td> <td> 0.527</td> <td>   -1.229     0.630</td>\n",
       "</tr>\n",
       "<tr>\n",
       "  <th>prestige_3</th>  <td>   -0.5768</td> <td>    0.499</td> <td>   -1.156</td> <td> 0.248</td> <td>   -1.555     0.402</td>\n",
       "</tr>\n",
       "<tr>\n",
       "  <th>prestige_4</th>  <td>   -0.3096</td> <td>    0.556</td> <td>   -0.556</td> <td> 0.578</td> <td>   -1.400     0.781</td>\n",
       "</tr>\n",
       "<tr>\n",
       "  <th>condition=2</th>    <th>coef</th>     <th>std err</th>      <th>z</th>      <th>P>|z|</th> <th>[95.0% Conf. Int.]</th> \n",
       "</tr>\n",
       "<tr>\n",
       "  <th>gre</th>         <td>   -0.0018</td> <td>    0.001</td> <td>   -1.258</td> <td> 0.208</td> <td>   -0.005     0.001</td>\n",
       "</tr>\n",
       "<tr>\n",
       "  <th>gpa</th>         <td>    0.4067</td> <td>    0.281</td> <td>    1.445</td> <td> 0.148</td> <td>   -0.145     0.958</td>\n",
       "</tr>\n",
       "<tr>\n",
       "  <th>prestige_2</th>  <td>   -0.2939</td> <td>    0.479</td> <td>   -0.614</td> <td> 0.539</td> <td>   -1.233     0.645</td>\n",
       "</tr>\n",
       "<tr>\n",
       "  <th>prestige_3</th>  <td>   -0.5715</td> <td>    0.502</td> <td>   -1.137</td> <td> 0.255</td> <td>   -1.556     0.413</td>\n",
       "</tr>\n",
       "<tr>\n",
       "  <th>prestige_4</th>  <td>   -0.0822</td> <td>    0.547</td> <td>   -0.150</td> <td> 0.881</td> <td>   -1.154     0.989</td>\n",
       "</tr>\n",
       "<tr>\n",
       "  <th>condition=3</th>    <th>coef</th>     <th>std err</th>      <th>z</th>      <th>P>|z|</th> <th>[95.0% Conf. Int.]</th> \n",
       "</tr>\n",
       "<tr>\n",
       "  <th>gre</th>         <td>   -0.0011</td> <td>    0.001</td> <td>   -0.732</td> <td> 0.464</td> <td>   -0.004     0.002</td>\n",
       "</tr>\n",
       "<tr>\n",
       "  <th>gpa</th>         <td>    0.2779</td> <td>    0.282</td> <td>    0.984</td> <td> 0.325</td> <td>   -0.276     0.832</td>\n",
       "</tr>\n",
       "<tr>\n",
       "  <th>prestige_2</th>  <td>   -0.2540</td> <td>    0.474</td> <td>   -0.536</td> <td> 0.592</td> <td>   -1.183     0.675</td>\n",
       "</tr>\n",
       "<tr>\n",
       "  <th>prestige_3</th>  <td>   -0.5710</td> <td>    0.500</td> <td>   -1.141</td> <td> 0.254</td> <td>   -1.551     0.409</td>\n",
       "</tr>\n",
       "<tr>\n",
       "  <th>prestige_4</th>  <td>   -0.3001</td> <td>    0.557</td> <td>   -0.538</td> <td> 0.590</td> <td>   -1.393     0.792</td>\n",
       "</tr>\n",
       "<tr>\n",
       "  <th>condition=4</th>    <th>coef</th>     <th>std err</th>      <th>z</th>      <th>P>|z|</th> <th>[95.0% Conf. Int.]</th> \n",
       "</tr>\n",
       "<tr>\n",
       "  <th>gre</th>         <td>   -0.0017</td> <td>    0.001</td> <td>   -1.178</td> <td> 0.239</td> <td>   -0.005     0.001</td>\n",
       "</tr>\n",
       "<tr>\n",
       "  <th>gpa</th>         <td>    0.4172</td> <td>    0.282</td> <td>    1.479</td> <td> 0.139</td> <td>   -0.136     0.970</td>\n",
       "</tr>\n",
       "<tr>\n",
       "  <th>prestige_2</th>  <td>   -0.4995</td> <td>    0.476</td> <td>   -1.050</td> <td> 0.294</td> <td>   -1.432     0.433</td>\n",
       "</tr>\n",
       "<tr>\n",
       "  <th>prestige_3</th>  <td>   -0.4652</td> <td>    0.487</td> <td>   -0.955</td> <td> 0.340</td> <td>   -1.420     0.490</td>\n",
       "</tr>\n",
       "<tr>\n",
       "  <th>prestige_4</th>  <td>   -0.4667</td> <td>    0.560</td> <td>   -0.834</td> <td> 0.405</td> <td>   -1.564     0.631</td>\n",
       "</tr>\n",
       "</table>"
      ],
      "text/plain": [
       "<class 'statsmodels.iolib.summary.Summary'>\n",
       "\"\"\"\n",
       "                          MNLogit Regression Results                          \n",
       "==============================================================================\n",
       "Dep. Variable:              condition   No. Observations:                  400\n",
       "Model:                        MNLogit   Df Residuals:                      380\n",
       "Method:                           MLE   Df Model:                           16\n",
       "Date:                Thu, 07 Apr 2016   Pseudo R-squ.:                0.004568\n",
       "Time:                        15:09:32   Log-Likelihood:                -640.83\n",
       "converged:                       True   LL-Null:                       -643.78\n",
       "                                        LLR p-value:                    0.9893\n",
       "===============================================================================\n",
       "condition=1       coef    std err          z      P>|z|      [95.0% Conf. Int.]\n",
       "-------------------------------------------------------------------------------\n",
       "gre            -0.0008      0.001     -0.562      0.574        -0.004     0.002\n",
       "gpa             0.2379      0.283      0.840      0.401        -0.317     0.793\n",
       "prestige_2     -0.2997      0.474     -0.632      0.527        -1.229     0.630\n",
       "prestige_3     -0.5768      0.499     -1.156      0.248        -1.555     0.402\n",
       "prestige_4     -0.3096      0.556     -0.556      0.578        -1.400     0.781\n",
       "-------------------------------------------------------------------------------\n",
       "condition=2       coef    std err          z      P>|z|      [95.0% Conf. Int.]\n",
       "-------------------------------------------------------------------------------\n",
       "gre            -0.0018      0.001     -1.258      0.208        -0.005     0.001\n",
       "gpa             0.4067      0.281      1.445      0.148        -0.145     0.958\n",
       "prestige_2     -0.2939      0.479     -0.614      0.539        -1.233     0.645\n",
       "prestige_3     -0.5715      0.502     -1.137      0.255        -1.556     0.413\n",
       "prestige_4     -0.0822      0.547     -0.150      0.881        -1.154     0.989\n",
       "-------------------------------------------------------------------------------\n",
       "condition=3       coef    std err          z      P>|z|      [95.0% Conf. Int.]\n",
       "-------------------------------------------------------------------------------\n",
       "gre            -0.0011      0.001     -0.732      0.464        -0.004     0.002\n",
       "gpa             0.2779      0.282      0.984      0.325        -0.276     0.832\n",
       "prestige_2     -0.2540      0.474     -0.536      0.592        -1.183     0.675\n",
       "prestige_3     -0.5710      0.500     -1.141      0.254        -1.551     0.409\n",
       "prestige_4     -0.3001      0.557     -0.538      0.590        -1.393     0.792\n",
       "-------------------------------------------------------------------------------\n",
       "condition=4       coef    std err          z      P>|z|      [95.0% Conf. Int.]\n",
       "-------------------------------------------------------------------------------\n",
       "gre            -0.0017      0.001     -1.178      0.239        -0.005     0.001\n",
       "gpa             0.4172      0.282      1.479      0.139        -0.136     0.970\n",
       "prestige_2     -0.4995      0.476     -1.050      0.294        -1.432     0.433\n",
       "prestige_3     -0.4652      0.487     -0.955      0.340        -1.420     0.490\n",
       "prestige_4     -0.4667      0.560     -0.834      0.405        -1.564     0.631\n",
       "===============================================================================\n",
       "\"\"\""
      ]
     },
     "execution_count": 22,
     "metadata": {},
     "output_type": "execute_result"
    }
   ],
   "source": [
    "# Multinomial Logit with statsmodels -- use when there are more than 2 conditions; works for logit, too :)\n",
    "mlogit = sm.MNLogit(data['condition'],data[train_cols])\n",
    "mresult = mlogit.fit()\n",
    "msummary = mresult.summary()\n",
    "msummary"
   ]
  },
  {
   "cell_type": "code",
   "execution_count": 23,
   "metadata": {
    "collapsed": false
   },
   "outputs": [
    {
     "data": {
      "text/html": [
       "<div>\n",
       "<table border=\"1\" class=\"dataframe\">\n",
       "  <thead>\n",
       "    <tr style=\"text-align: right;\">\n",
       "      <th></th>\n",
       "      <th>0</th>\n",
       "      <th>1</th>\n",
       "      <th>2</th>\n",
       "      <th>3</th>\n",
       "    </tr>\n",
       "  </thead>\n",
       "  <tbody>\n",
       "    <tr>\n",
       "      <th>gre</th>\n",
       "      <td>0.574442</td>\n",
       "      <td>0.208422</td>\n",
       "      <td>0.464278</td>\n",
       "      <td>0.238696</td>\n",
       "    </tr>\n",
       "    <tr>\n",
       "      <th>gpa</th>\n",
       "      <td>0.401020</td>\n",
       "      <td>0.148429</td>\n",
       "      <td>0.325172</td>\n",
       "      <td>0.139179</td>\n",
       "    </tr>\n",
       "    <tr>\n",
       "      <th>prestige_2</th>\n",
       "      <td>0.527267</td>\n",
       "      <td>0.539481</td>\n",
       "      <td>0.592151</td>\n",
       "      <td>0.293933</td>\n",
       "    </tr>\n",
       "    <tr>\n",
       "      <th>prestige_3</th>\n",
       "      <td>0.247876</td>\n",
       "      <td>0.255359</td>\n",
       "      <td>0.253663</td>\n",
       "      <td>0.339602</td>\n",
       "    </tr>\n",
       "    <tr>\n",
       "      <th>prestige_4</th>\n",
       "      <td>0.577960</td>\n",
       "      <td>0.880537</td>\n",
       "      <td>0.590323</td>\n",
       "      <td>0.404525</td>\n",
       "    </tr>\n",
       "  </tbody>\n",
       "</table>\n",
       "</div>"
      ],
      "text/plain": [
       "                   0         1         2         3\n",
       "gre         0.574442  0.208422  0.464278  0.238696\n",
       "gpa         0.401020  0.148429  0.325172  0.139179\n",
       "prestige_2  0.527267  0.539481  0.592151  0.293933\n",
       "prestige_3  0.247876  0.255359  0.253663  0.339602\n",
       "prestige_4  0.577960  0.880537  0.590323  0.404525"
      ]
     },
     "execution_count": 23,
     "metadata": {},
     "output_type": "execute_result"
    }
   ],
   "source": [
    "pVals = mresult.pvalues\n",
    "pVals\n",
    "#Columns are labeled by index which is confusion -- correspond to the (column# + 1) condition"
   ]
  },
  {
   "cell_type": "code",
   "execution_count": 24,
   "metadata": {
    "collapsed": false
   },
   "outputs": [],
   "source": [
    "pVals.columns = conditionCodes[1:] #Rename columns to correspond to conditions\n",
    "pVals=pVals.reset_index()\n",
    "pVals.rename(columns={'index':'variable'},inplace=True)"
   ]
  },
  {
   "cell_type": "code",
   "execution_count": 25,
   "metadata": {
    "collapsed": false
   },
   "outputs": [
    {
     "data": {
      "text/html": [
       "<div>\n",
       "<table border=\"1\" class=\"dataframe\">\n",
       "  <thead>\n",
       "    <tr style=\"text-align: right;\">\n",
       "      <th></th>\n",
       "      <th>variable</th>\n",
       "      <th>1</th>\n",
       "      <th>2</th>\n",
       "      <th>3</th>\n",
       "      <th>4</th>\n",
       "    </tr>\n",
       "  </thead>\n",
       "  <tbody>\n",
       "    <tr>\n",
       "      <th>0</th>\n",
       "      <td>gre</td>\n",
       "      <td>0.574442</td>\n",
       "      <td>0.208422</td>\n",
       "      <td>0.464278</td>\n",
       "      <td>0.238696</td>\n",
       "    </tr>\n",
       "    <tr>\n",
       "      <th>1</th>\n",
       "      <td>gpa</td>\n",
       "      <td>0.401020</td>\n",
       "      <td>0.148429</td>\n",
       "      <td>0.325172</td>\n",
       "      <td>0.139179</td>\n",
       "    </tr>\n",
       "    <tr>\n",
       "      <th>2</th>\n",
       "      <td>prestige_2</td>\n",
       "      <td>0.527267</td>\n",
       "      <td>0.539481</td>\n",
       "      <td>0.592151</td>\n",
       "      <td>0.293933</td>\n",
       "    </tr>\n",
       "    <tr>\n",
       "      <th>3</th>\n",
       "      <td>prestige_3</td>\n",
       "      <td>0.247876</td>\n",
       "      <td>0.255359</td>\n",
       "      <td>0.253663</td>\n",
       "      <td>0.339602</td>\n",
       "    </tr>\n",
       "    <tr>\n",
       "      <th>4</th>\n",
       "      <td>prestige_4</td>\n",
       "      <td>0.577960</td>\n",
       "      <td>0.880537</td>\n",
       "      <td>0.590323</td>\n",
       "      <td>0.404525</td>\n",
       "    </tr>\n",
       "  </tbody>\n",
       "</table>\n",
       "</div>"
      ],
      "text/plain": [
       "     variable         1         2         3         4\n",
       "0         gre  0.574442  0.208422  0.464278  0.238696\n",
       "1         gpa  0.401020  0.148429  0.325172  0.139179\n",
       "2  prestige_2  0.527267  0.539481  0.592151  0.293933\n",
       "3  prestige_3  0.247876  0.255359  0.253663  0.339602\n",
       "4  prestige_4  0.577960  0.880537  0.590323  0.404525"
      ]
     },
     "execution_count": 25,
     "metadata": {},
     "output_type": "execute_result"
    }
   ],
   "source": [
    "pVals"
   ]
  },
  {
   "cell_type": "code",
   "execution_count": 26,
   "metadata": {
    "collapsed": true
   },
   "outputs": [],
   "source": [
    "minPval = .25"
   ]
  },
  {
   "cell_type": "code",
   "execution_count": null,
   "metadata": {
    "collapsed": true
   },
   "outputs": [],
   "source": []
  }
 ],
 "metadata": {
  "kernelspec": {
   "display_name": "Python 3",
   "language": "python",
   "name": "python3"
  },
  "language_info": {
   "codemirror_mode": {
    "name": "ipython",
    "version": 3
   },
   "file_extension": ".py",
   "mimetype": "text/x-python",
   "name": "python",
   "nbconvert_exporter": "python",
   "pygments_lexer": "ipython3",
   "version": "3.4.3"
  }
 },
 "nbformat": 4,
 "nbformat_minor": 0
}
