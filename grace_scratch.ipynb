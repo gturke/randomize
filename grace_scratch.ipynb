{
 "cells": [
  {
   "cell_type": "code",
   "execution_count": 1,
   "metadata": {
    "collapsed": true
   },
   "outputs": [],
   "source": [
    "import pandas as pd\n",
    "import numpy as np\n",
    "import statsmodels.api as sm"
   ]
  },
  {
   "cell_type": "code",
   "execution_count": 68,
   "metadata": {
    "collapsed": true
   },
   "outputs": [],
   "source": [
    "# #import sklearn\n",
    "# from sklearn.cross_validation import train_test_split\n",
    "# from sklearn import metrics\n",
    "# from sklearn.cross_validation import cross_val_score\n",
    "# from sklearn.linear_model import LogisticRegression\n",
    "#from sklearn import feature_selection as fs #maybe use for p-vals..."
   ]
  },
  {
   "cell_type": "code",
   "execution_count": 69,
   "metadata": {
    "collapsed": true
   },
   "outputs": [],
   "source": [
    "# import patsy #not sure if we'll need this"
   ]
  },
  {
   "cell_type": "code",
   "execution_count": 9,
   "metadata": {
    "collapsed": true
   },
   "outputs": [],
   "source": [
    "# read the data in\n",
    "df = pd.read_csv(\"http://www.ats.ucla.edu/stat/data/binary.csv\")"
   ]
  },
  {
   "cell_type": "code",
   "execution_count": 10,
   "metadata": {
    "collapsed": false,
    "scrolled": true
   },
   "outputs": [
    {
     "data": {
      "text/html": [
       "<div>\n",
       "<table border=\"1\" class=\"dataframe\">\n",
       "  <thead>\n",
       "    <tr style=\"text-align: right;\">\n",
       "      <th></th>\n",
       "      <th>admit</th>\n",
       "      <th>gre</th>\n",
       "      <th>gpa</th>\n",
       "      <th>rank</th>\n",
       "    </tr>\n",
       "  </thead>\n",
       "  <tbody>\n",
       "    <tr>\n",
       "      <th>0</th>\n",
       "      <td>0</td>\n",
       "      <td>380</td>\n",
       "      <td>3.61</td>\n",
       "      <td>3</td>\n",
       "    </tr>\n",
       "    <tr>\n",
       "      <th>1</th>\n",
       "      <td>1</td>\n",
       "      <td>660</td>\n",
       "      <td>3.67</td>\n",
       "      <td>3</td>\n",
       "    </tr>\n",
       "    <tr>\n",
       "      <th>2</th>\n",
       "      <td>1</td>\n",
       "      <td>800</td>\n",
       "      <td>4.00</td>\n",
       "      <td>1</td>\n",
       "    </tr>\n",
       "    <tr>\n",
       "      <th>3</th>\n",
       "      <td>1</td>\n",
       "      <td>640</td>\n",
       "      <td>3.19</td>\n",
       "      <td>4</td>\n",
       "    </tr>\n",
       "    <tr>\n",
       "      <th>4</th>\n",
       "      <td>0</td>\n",
       "      <td>520</td>\n",
       "      <td>2.93</td>\n",
       "      <td>4</td>\n",
       "    </tr>\n",
       "  </tbody>\n",
       "</table>\n",
       "</div>"
      ],
      "text/plain": [
       "   admit  gre   gpa  rank\n",
       "0      0  380  3.61     3\n",
       "1      1  660  3.67     3\n",
       "2      1  800  4.00     1\n",
       "3      1  640  3.19     4\n",
       "4      0  520  2.93     4"
      ]
     },
     "execution_count": 10,
     "metadata": {},
     "output_type": "execute_result"
    }
   ],
   "source": [
    "df.head()"
   ]
  },
  {
   "cell_type": "code",
   "execution_count": 11,
   "metadata": {
    "collapsed": false
   },
   "outputs": [
    {
     "data": {
      "text/plain": [
       "admit    400\n",
       "gre      400\n",
       "gpa      400\n",
       "rank     400\n",
       "dtype: int64"
      ]
     },
     "execution_count": 11,
     "metadata": {},
     "output_type": "execute_result"
    }
   ],
   "source": [
    "df.count()"
   ]
  },
  {
   "cell_type": "code",
   "execution_count": 12,
   "metadata": {
    "collapsed": false,
    "scrolled": false
   },
   "outputs": [
    {
     "data": {
      "text/plain": [
       "'rank'"
      ]
     },
     "execution_count": 12,
     "metadata": {},
     "output_type": "execute_result"
    }
   ],
   "source": [
    "df.columns[3]"
   ]
  },
  {
   "cell_type": "code",
   "execution_count": 13,
   "metadata": {
    "collapsed": false
   },
   "outputs": [],
   "source": [
    "df.columns=['admit','gre','gpa','prestige']"
   ]
  },
  {
   "cell_type": "code",
   "execution_count": 14,
   "metadata": {
    "collapsed": false
   },
   "outputs": [
    {
     "data": {
      "text/html": [
       "<div>\n",
       "<table border=\"1\" class=\"dataframe\">\n",
       "  <thead>\n",
       "    <tr style=\"text-align: right;\">\n",
       "      <th></th>\n",
       "      <th>admit</th>\n",
       "      <th>gre</th>\n",
       "      <th>gpa</th>\n",
       "      <th>prestige</th>\n",
       "    </tr>\n",
       "  </thead>\n",
       "  <tbody>\n",
       "    <tr>\n",
       "      <th>0</th>\n",
       "      <td>0</td>\n",
       "      <td>380</td>\n",
       "      <td>3.61</td>\n",
       "      <td>3</td>\n",
       "    </tr>\n",
       "    <tr>\n",
       "      <th>1</th>\n",
       "      <td>1</td>\n",
       "      <td>660</td>\n",
       "      <td>3.67</td>\n",
       "      <td>3</td>\n",
       "    </tr>\n",
       "    <tr>\n",
       "      <th>2</th>\n",
       "      <td>1</td>\n",
       "      <td>800</td>\n",
       "      <td>4.00</td>\n",
       "      <td>1</td>\n",
       "    </tr>\n",
       "    <tr>\n",
       "      <th>3</th>\n",
       "      <td>1</td>\n",
       "      <td>640</td>\n",
       "      <td>3.19</td>\n",
       "      <td>4</td>\n",
       "    </tr>\n",
       "    <tr>\n",
       "      <th>4</th>\n",
       "      <td>0</td>\n",
       "      <td>520</td>\n",
       "      <td>2.93</td>\n",
       "      <td>4</td>\n",
       "    </tr>\n",
       "  </tbody>\n",
       "</table>\n",
       "</div>"
      ],
      "text/plain": [
       "   admit  gre   gpa  prestige\n",
       "0      0  380  3.61         3\n",
       "1      1  660  3.67         3\n",
       "2      1  800  4.00         1\n",
       "3      1  640  3.19         4\n",
       "4      0  520  2.93         4"
      ]
     },
     "execution_count": 14,
     "metadata": {},
     "output_type": "execute_result"
    }
   ],
   "source": [
    "df.head()"
   ]
  },
  {
   "cell_type": "code",
   "execution_count": 15,
   "metadata": {
    "collapsed": false
   },
   "outputs": [
    {
     "data": {
      "text/html": [
       "<div>\n",
       "<table border=\"1\" class=\"dataframe\">\n",
       "  <thead>\n",
       "    <tr style=\"text-align: right;\">\n",
       "      <th></th>\n",
       "      <th>prestige_1</th>\n",
       "      <th>prestige_2</th>\n",
       "      <th>prestige_3</th>\n",
       "      <th>prestige_4</th>\n",
       "    </tr>\n",
       "  </thead>\n",
       "  <tbody>\n",
       "    <tr>\n",
       "      <th>0</th>\n",
       "      <td>0</td>\n",
       "      <td>0</td>\n",
       "      <td>1</td>\n",
       "      <td>0</td>\n",
       "    </tr>\n",
       "    <tr>\n",
       "      <th>1</th>\n",
       "      <td>0</td>\n",
       "      <td>0</td>\n",
       "      <td>1</td>\n",
       "      <td>0</td>\n",
       "    </tr>\n",
       "    <tr>\n",
       "      <th>2</th>\n",
       "      <td>1</td>\n",
       "      <td>0</td>\n",
       "      <td>0</td>\n",
       "      <td>0</td>\n",
       "    </tr>\n",
       "    <tr>\n",
       "      <th>3</th>\n",
       "      <td>0</td>\n",
       "      <td>0</td>\n",
       "      <td>0</td>\n",
       "      <td>1</td>\n",
       "    </tr>\n",
       "    <tr>\n",
       "      <th>4</th>\n",
       "      <td>0</td>\n",
       "      <td>0</td>\n",
       "      <td>0</td>\n",
       "      <td>1</td>\n",
       "    </tr>\n",
       "  </tbody>\n",
       "</table>\n",
       "</div>"
      ],
      "text/plain": [
       "   prestige_1  prestige_2  prestige_3  prestige_4\n",
       "0           0           0           1           0\n",
       "1           0           0           1           0\n",
       "2           1           0           0           0\n",
       "3           0           0           0           1\n",
       "4           0           0           0           1"
      ]
     },
     "execution_count": 15,
     "metadata": {},
     "output_type": "execute_result"
    }
   ],
   "source": [
    "dummy_ranks = pd.get_dummies(df['prestige'], prefix='prestige') #pd.get_dummies converts a specified categorical variabe into a series of dummy vars\n",
    "dummy_ranks.head()"
   ]
  },
  {
   "cell_type": "code",
   "execution_count": 16,
   "metadata": {
    "collapsed": false
   },
   "outputs": [],
   "source": [
    "#pd.value_counts(df['prestige'])"
   ]
  },
  {
   "cell_type": "code",
   "execution_count": 17,
   "metadata": {
    "collapsed": false
   },
   "outputs": [],
   "source": [
    "data = df[['admit','gre','gpa']].join(dummy_ranks.ix[:,'prestige_2':])"
   ]
  },
  {
   "cell_type": "code",
   "execution_count": 18,
   "metadata": {
    "collapsed": false,
    "scrolled": true
   },
   "outputs": [
    {
     "data": {
      "text/html": [
       "<div>\n",
       "<table border=\"1\" class=\"dataframe\">\n",
       "  <thead>\n",
       "    <tr style=\"text-align: right;\">\n",
       "      <th></th>\n",
       "      <th>admit</th>\n",
       "      <th>gre</th>\n",
       "      <th>gpa</th>\n",
       "      <th>prestige_2</th>\n",
       "      <th>prestige_3</th>\n",
       "      <th>prestige_4</th>\n",
       "    </tr>\n",
       "  </thead>\n",
       "  <tbody>\n",
       "    <tr>\n",
       "      <th>0</th>\n",
       "      <td>0</td>\n",
       "      <td>380</td>\n",
       "      <td>3.61</td>\n",
       "      <td>0</td>\n",
       "      <td>1</td>\n",
       "      <td>0</td>\n",
       "    </tr>\n",
       "    <tr>\n",
       "      <th>1</th>\n",
       "      <td>1</td>\n",
       "      <td>660</td>\n",
       "      <td>3.67</td>\n",
       "      <td>0</td>\n",
       "      <td>1</td>\n",
       "      <td>0</td>\n",
       "    </tr>\n",
       "    <tr>\n",
       "      <th>2</th>\n",
       "      <td>1</td>\n",
       "      <td>800</td>\n",
       "      <td>4.00</td>\n",
       "      <td>0</td>\n",
       "      <td>0</td>\n",
       "      <td>0</td>\n",
       "    </tr>\n",
       "    <tr>\n",
       "      <th>3</th>\n",
       "      <td>1</td>\n",
       "      <td>640</td>\n",
       "      <td>3.19</td>\n",
       "      <td>0</td>\n",
       "      <td>0</td>\n",
       "      <td>1</td>\n",
       "    </tr>\n",
       "    <tr>\n",
       "      <th>4</th>\n",
       "      <td>0</td>\n",
       "      <td>520</td>\n",
       "      <td>2.93</td>\n",
       "      <td>0</td>\n",
       "      <td>0</td>\n",
       "      <td>1</td>\n",
       "    </tr>\n",
       "  </tbody>\n",
       "</table>\n",
       "</div>"
      ],
      "text/plain": [
       "   admit  gre   gpa  prestige_2  prestige_3  prestige_4\n",
       "0      0  380  3.61           0           1           0\n",
       "1      1  660  3.67           0           1           0\n",
       "2      1  800  4.00           0           0           0\n",
       "3      1  640  3.19           0           0           1\n",
       "4      0  520  2.93           0           0           1"
      ]
     },
     "execution_count": 18,
     "metadata": {},
     "output_type": "execute_result"
    }
   ],
   "source": [
    "data.head()"
   ]
  },
  {
   "cell_type": "code",
   "execution_count": 19,
   "metadata": {
    "collapsed": false
   },
   "outputs": [
    {
     "data": {
      "text/plain": [
       "Index(['gre', 'gpa', 'prestige_2', 'prestige_3', 'prestige_4'], dtype='object')"
      ]
     },
     "execution_count": 19,
     "metadata": {},
     "output_type": "execute_result"
    }
   ],
   "source": [
    "train_cols = data.columns[1:]\n",
    "train_cols"
   ]
  },
  {
   "cell_type": "code",
   "execution_count": 20,
   "metadata": {
    "collapsed": false
   },
   "outputs": [],
   "source": [
    "#logit = sm.Logit(data['admit'],data[train_cols]) #How to run a logit with statsmodels.Logit()"
   ]
  },
  {
   "cell_type": "code",
   "execution_count": 21,
   "metadata": {
    "collapsed": false
   },
   "outputs": [],
   "source": [
    "#result = logit.fit()"
   ]
  },
  {
   "cell_type": "code",
   "execution_count": 22,
   "metadata": {
    "collapsed": false
   },
   "outputs": [],
   "source": [
    "#summary = result.summary()"
   ]
  },
  {
   "cell_type": "code",
   "execution_count": 23,
   "metadata": {
    "collapsed": false,
    "scrolled": false
   },
   "outputs": [],
   "source": [
    "#summary"
   ]
  },
  {
   "cell_type": "code",
   "execution_count": 24,
   "metadata": {
    "collapsed": false
   },
   "outputs": [],
   "source": [
    "#type(summary)"
   ]
  },
  {
   "cell_type": "code",
   "execution_count": 25,
   "metadata": {
    "collapsed": false
   },
   "outputs": [],
   "source": [
    "# This is the sklearn way:\n",
    "# model = LogisticRegression()\n",
    "# model = model.fit(data[train_cols],data['admit'])\n",
    "# model.score(data[train_cols],data['admit'])"
   ]
  },
  {
   "cell_type": "code",
   "execution_count": 26,
   "metadata": {
    "collapsed": false
   },
   "outputs": [],
   "source": [
    "# data['admit'].mean()"
   ]
  },
  {
   "cell_type": "code",
   "execution_count": 27,
   "metadata": {
    "collapsed": false
   },
   "outputs": [],
   "source": [
    "# type(model)"
   ]
  },
  {
   "cell_type": "code",
   "execution_count": 28,
   "metadata": {
    "collapsed": false
   },
   "outputs": [],
   "source": [
    "# model"
   ]
  },
  {
   "cell_type": "code",
   "execution_count": 29,
   "metadata": {
    "collapsed": false
   },
   "outputs": [],
   "source": [
    "# model.coef_"
   ]
  },
  {
   "cell_type": "code",
   "execution_count": 30,
   "metadata": {
    "collapsed": false
   },
   "outputs": [],
   "source": [
    "# train_cols"
   ]
  },
  {
   "cell_type": "code",
   "execution_count": 31,
   "metadata": {
    "collapsed": false
   },
   "outputs": [],
   "source": [
    "logit = sm.Logit(data['admit'],data[train_cols])"
   ]
  },
  {
   "cell_type": "code",
   "execution_count": 32,
   "metadata": {
    "collapsed": false
   },
   "outputs": [
    {
     "name": "stdout",
     "output_type": "stream",
     "text": [
      "Optimization terminated successfully.\n",
      "         Current function value: 0.589306\n",
      "         Iterations 5\n"
     ]
    }
   ],
   "source": [
    "result = logit.fit()"
   ]
  },
  {
   "cell_type": "code",
   "execution_count": null,
   "metadata": {
    "collapsed": true
   },
   "outputs": [],
   "source": []
  },
  {
   "cell_type": "code",
   "execution_count": 33,
   "metadata": {
    "collapsed": false,
    "scrolled": true
   },
   "outputs": [
    {
     "name": "stdout",
     "output_type": "stream",
     "text": [
      "Optimization terminated successfully.\n",
      "         Current function value: 0.589306\n",
      "         Iterations 5\n"
     ]
    },
    {
     "data": {
      "text/html": [
       "<table class=\"simpletable\">\n",
       "<caption>Logit Regression Results</caption>\n",
       "<tr>\n",
       "  <th>Dep. Variable:</th>       <td>admit</td>      <th>  No. Observations:  </th>  <td>   400</td>  \n",
       "</tr>\n",
       "<tr>\n",
       "  <th>Model:</th>               <td>Logit</td>      <th>  Df Residuals:      </th>  <td>   395</td>  \n",
       "</tr>\n",
       "<tr>\n",
       "  <th>Method:</th>               <td>MLE</td>       <th>  Df Model:          </th>  <td>     4</td>  \n",
       "</tr>\n",
       "<tr>\n",
       "  <th>Date:</th>          <td>Thu, 07 Apr 2016</td> <th>  Pseudo R-squ.:     </th>  <td>0.05707</td> \n",
       "</tr>\n",
       "<tr>\n",
       "  <th>Time:</th>              <td>11:15:37</td>     <th>  Log-Likelihood:    </th> <td> -235.72</td> \n",
       "</tr>\n",
       "<tr>\n",
       "  <th>converged:</th>           <td>True</td>       <th>  LL-Null:           </th> <td> -249.99</td> \n",
       "</tr>\n",
       "<tr>\n",
       "  <th> </th>                      <td> </td>        <th>  LLR p-value:       </th> <td>9.732e-06</td>\n",
       "</tr>\n",
       "</table>\n",
       "<table class=\"simpletable\">\n",
       "<tr>\n",
       "       <td></td>         <th>coef</th>     <th>std err</th>      <th>z</th>      <th>P>|z|</th> <th>[95.0% Conf. Int.]</th> \n",
       "</tr>\n",
       "<tr>\n",
       "  <th>gre</th>        <td>    0.0014</td> <td>    0.001</td> <td>    1.329</td> <td> 0.184</td> <td>   -0.001     0.003</td>\n",
       "</tr>\n",
       "<tr>\n",
       "  <th>gpa</th>        <td>   -0.1336</td> <td>    0.194</td> <td>   -0.687</td> <td> 0.492</td> <td>   -0.515     0.248</td>\n",
       "</tr>\n",
       "<tr>\n",
       "  <th>prestige_2</th> <td>   -0.9663</td> <td>    0.300</td> <td>   -3.216</td> <td> 0.001</td> <td>   -1.555    -0.377</td>\n",
       "</tr>\n",
       "<tr>\n",
       "  <th>prestige_3</th> <td>   -1.5451</td> <td>    0.332</td> <td>   -4.648</td> <td> 0.000</td> <td>   -2.197    -0.894</td>\n",
       "</tr>\n",
       "<tr>\n",
       "  <th>prestige_4</th> <td>   -1.8776</td> <td>    0.402</td> <td>   -4.676</td> <td> 0.000</td> <td>   -2.665    -1.091</td>\n",
       "</tr>\n",
       "</table>"
      ],
      "text/plain": [
       "<class 'statsmodels.iolib.summary.Summary'>\n",
       "\"\"\"\n",
       "                           Logit Regression Results                           \n",
       "==============================================================================\n",
       "Dep. Variable:                  admit   No. Observations:                  400\n",
       "Model:                          Logit   Df Residuals:                      395\n",
       "Method:                           MLE   Df Model:                            4\n",
       "Date:                Thu, 07 Apr 2016   Pseudo R-squ.:                 0.05707\n",
       "Time:                        11:15:37   Log-Likelihood:                -235.72\n",
       "converged:                       True   LL-Null:                       -249.99\n",
       "                                        LLR p-value:                 9.732e-06\n",
       "==============================================================================\n",
       "                 coef    std err          z      P>|z|      [95.0% Conf. Int.]\n",
       "------------------------------------------------------------------------------\n",
       "gre            0.0014      0.001      1.329      0.184        -0.001     0.003\n",
       "gpa           -0.1336      0.194     -0.687      0.492        -0.515     0.248\n",
       "prestige_2    -0.9663      0.300     -3.216      0.001        -1.555    -0.377\n",
       "prestige_3    -1.5451      0.332     -4.648      0.000        -2.197    -0.894\n",
       "prestige_4    -1.8776      0.402     -4.676      0.000        -2.665    -1.091\n",
       "==============================================================================\n",
       "\"\"\""
      ]
     },
     "execution_count": 33,
     "metadata": {},
     "output_type": "execute_result"
    }
   ],
   "source": [
    "#Use statsmodels over scikit learn for p-vals\n",
    "logit = sm.Logit(data['admit'],data[train_cols]) #How to run a logit with statsmodels.Logit()\n",
    "result = logit.fit()\n",
    "summary = result.summary()\n",
    "summary"
   ]
  },
  {
   "cell_type": "code",
   "execution_count": 34,
   "metadata": {
    "collapsed": false,
    "scrolled": false
   },
   "outputs": [
    {
     "name": "stdout",
     "output_type": "stream",
     "text": [
      "<class 'pandas.core.frame.DataFrame'>\n",
      "Int64Index: 400 entries, 0 to 399\n",
      "Data columns (total 6 columns):\n",
      "admit         400 non-null int64\n",
      "gre           400 non-null int64\n",
      "gpa           400 non-null float64\n",
      "prestige_2    400 non-null float64\n",
      "prestige_3    400 non-null float64\n",
      "prestige_4    400 non-null float64\n",
      "dtypes: float64(4), int64(2)\n",
      "memory usage: 21.9 KB\n"
     ]
    }
   ],
   "source": [
    "data.info()"
   ]
  },
  {
   "cell_type": "code",
   "execution_count": 35,
   "metadata": {
    "collapsed": false
   },
   "outputs": [
    {
     "data": {
      "text/html": [
       "<div>\n",
       "<table border=\"1\" class=\"dataframe\">\n",
       "  <thead>\n",
       "    <tr style=\"text-align: right;\">\n",
       "      <th></th>\n",
       "      <th>0</th>\n",
       "    </tr>\n",
       "  </thead>\n",
       "  <tbody>\n",
       "    <tr>\n",
       "      <th>gre</th>\n",
       "      <td>0.183932</td>\n",
       "    </tr>\n",
       "    <tr>\n",
       "      <th>gpa</th>\n",
       "      <td>0.492152</td>\n",
       "    </tr>\n",
       "    <tr>\n",
       "      <th>prestige_2</th>\n",
       "      <td>0.001298</td>\n",
       "    </tr>\n",
       "    <tr>\n",
       "      <th>prestige_3</th>\n",
       "      <td>0.000003</td>\n",
       "    </tr>\n",
       "    <tr>\n",
       "      <th>prestige_4</th>\n",
       "      <td>0.000003</td>\n",
       "    </tr>\n",
       "  </tbody>\n",
       "</table>\n",
       "</div>"
      ],
      "text/plain": [
       "                   0\n",
       "gre         0.183932\n",
       "gpa         0.492152\n",
       "prestige_2  0.001298\n",
       "prestige_3  0.000003\n",
       "prestige_4  0.000003"
      ]
     },
     "execution_count": 35,
     "metadata": {},
     "output_type": "execute_result"
    }
   ],
   "source": [
    "pd.DataFrame(result.pvalues)"
   ]
  },
  {
   "cell_type": "code",
   "execution_count": 36,
   "metadata": {
    "collapsed": false
   },
   "outputs": [
    {
     "data": {
      "text/plain": [
       "[0, 1, 2, 3, 4]"
      ]
     },
     "execution_count": 36,
     "metadata": {},
     "output_type": "execute_result"
    }
   ],
   "source": [
    "numConditions=5\n",
    "conditionCodes = list(range(numConditions))\n",
    "conditionCodes"
   ]
  },
  {
   "cell_type": "code",
   "execution_count": 37,
   "metadata": {
    "collapsed": false
   },
   "outputs": [
    {
     "data": {
      "text/plain": [
       "4"
      ]
     },
     "execution_count": 37,
     "metadata": {},
     "output_type": "execute_result"
    }
   ],
   "source": [
    "startCode = np.random.choice(conditionCodes)\n",
    "startCode"
   ]
  },
  {
   "cell_type": "code",
   "execution_count": 38,
   "metadata": {
    "collapsed": true
   },
   "outputs": [],
   "source": [
    "assignList = conditionCodes[startCode:] + conditionCodes[:startCode]"
   ]
  },
  {
   "cell_type": "code",
   "execution_count": 39,
   "metadata": {
    "collapsed": false
   },
   "outputs": [],
   "source": [
    "assignList = ((len(data)//numConditions)*assignList) + assignList[:(len(data)%numConditions)]"
   ]
  },
  {
   "cell_type": "code",
   "execution_count": 40,
   "metadata": {
    "collapsed": false
   },
   "outputs": [
    {
     "data": {
      "text/plain": [
       "400"
      ]
     },
     "execution_count": 40,
     "metadata": {},
     "output_type": "execute_result"
    }
   ],
   "source": [
    "len(assignList)"
   ]
  },
  {
   "cell_type": "code",
   "execution_count": 41,
   "metadata": {
    "collapsed": true
   },
   "outputs": [],
   "source": [
    "data['condition'] = assignList"
   ]
  },
  {
   "cell_type": "code",
   "execution_count": 42,
   "metadata": {
    "collapsed": false,
    "scrolled": true
   },
   "outputs": [
    {
     "data": {
      "text/html": [
       "<div>\n",
       "<table border=\"1\" class=\"dataframe\">\n",
       "  <thead>\n",
       "    <tr style=\"text-align: right;\">\n",
       "      <th></th>\n",
       "      <th>admit</th>\n",
       "      <th>gre</th>\n",
       "      <th>gpa</th>\n",
       "      <th>prestige_2</th>\n",
       "      <th>prestige_3</th>\n",
       "      <th>prestige_4</th>\n",
       "      <th>condition</th>\n",
       "    </tr>\n",
       "  </thead>\n",
       "  <tbody>\n",
       "    <tr>\n",
       "      <th>0</th>\n",
       "      <td>0</td>\n",
       "      <td>380</td>\n",
       "      <td>3.61</td>\n",
       "      <td>0</td>\n",
       "      <td>1</td>\n",
       "      <td>0</td>\n",
       "      <td>4</td>\n",
       "    </tr>\n",
       "    <tr>\n",
       "      <th>1</th>\n",
       "      <td>1</td>\n",
       "      <td>660</td>\n",
       "      <td>3.67</td>\n",
       "      <td>0</td>\n",
       "      <td>1</td>\n",
       "      <td>0</td>\n",
       "      <td>0</td>\n",
       "    </tr>\n",
       "    <tr>\n",
       "      <th>2</th>\n",
       "      <td>1</td>\n",
       "      <td>800</td>\n",
       "      <td>4.00</td>\n",
       "      <td>0</td>\n",
       "      <td>0</td>\n",
       "      <td>0</td>\n",
       "      <td>1</td>\n",
       "    </tr>\n",
       "    <tr>\n",
       "      <th>3</th>\n",
       "      <td>1</td>\n",
       "      <td>640</td>\n",
       "      <td>3.19</td>\n",
       "      <td>0</td>\n",
       "      <td>0</td>\n",
       "      <td>1</td>\n",
       "      <td>2</td>\n",
       "    </tr>\n",
       "    <tr>\n",
       "      <th>4</th>\n",
       "      <td>0</td>\n",
       "      <td>520</td>\n",
       "      <td>2.93</td>\n",
       "      <td>0</td>\n",
       "      <td>0</td>\n",
       "      <td>1</td>\n",
       "      <td>3</td>\n",
       "    </tr>\n",
       "  </tbody>\n",
       "</table>\n",
       "</div>"
      ],
      "text/plain": [
       "   admit  gre   gpa  prestige_2  prestige_3  prestige_4  condition\n",
       "0      0  380  3.61           0           1           0          4\n",
       "1      1  660  3.67           0           1           0          0\n",
       "2      1  800  4.00           0           0           0          1\n",
       "3      1  640  3.19           0           0           1          2\n",
       "4      0  520  2.93           0           0           1          3"
      ]
     },
     "execution_count": 42,
     "metadata": {},
     "output_type": "execute_result"
    }
   ],
   "source": [
    "#Now try multinomial logit of condition on gre, gpa, prestige_2, prestige_3, prestige_4 \n",
    "data.head()"
   ]
  },
  {
   "cell_type": "code",
   "execution_count": 43,
   "metadata": {
    "collapsed": false
   },
   "outputs": [],
   "source": [
    "# # Run logit of treat 1 on control - compare to results from mlogit test\n",
    "# data_treat1 = data[data['condition']!=2]\n",
    "# data_treat1.describe()"
   ]
  },
  {
   "cell_type": "code",
   "execution_count": 44,
   "metadata": {
    "collapsed": false
   },
   "outputs": [],
   "source": [
    "# logit_treat1 = sm.Logit(data_treat1['condition'],data_treat1[train_cols]) #How to run a logit with statsmodels.Logit()\n",
    "# result_treat1 = logit_treat1.fit()\n",
    "# summary_treat1 = result_treat1.summary()\n",
    "# summary_treat1"
   ]
  },
  {
   "cell_type": "code",
   "execution_count": 45,
   "metadata": {
    "collapsed": false,
    "scrolled": true
   },
   "outputs": [
    {
     "name": "stdout",
     "output_type": "stream",
     "text": [
      "Optimization terminated successfully.\n",
      "         Current function value: 1.602087\n",
      "         Iterations 5\n"
     ]
    },
    {
     "data": {
      "text/html": [
       "<table class=\"simpletable\">\n",
       "<caption>MNLogit Regression Results</caption>\n",
       "<tr>\n",
       "  <th>Dep. Variable:</th>     <td>condition</td>    <th>  No. Observations:  </th>  <td>   400</td> \n",
       "</tr>\n",
       "<tr>\n",
       "  <th>Model:</th>              <td>MNLogit</td>     <th>  Df Residuals:      </th>  <td>   380</td> \n",
       "</tr>\n",
       "<tr>\n",
       "  <th>Method:</th>               <td>MLE</td>       <th>  Df Model:          </th>  <td>    16</td> \n",
       "</tr>\n",
       "<tr>\n",
       "  <th>Date:</th>          <td>Thu, 07 Apr 2016</td> <th>  Pseudo R-squ.:     </th> <td>0.004568</td>\n",
       "</tr>\n",
       "<tr>\n",
       "  <th>Time:</th>              <td>11:15:49</td>     <th>  Log-Likelihood:    </th> <td> -640.83</td>\n",
       "</tr>\n",
       "<tr>\n",
       "  <th>converged:</th>           <td>True</td>       <th>  LL-Null:           </th> <td> -643.78</td>\n",
       "</tr>\n",
       "<tr>\n",
       "  <th> </th>                      <td> </td>        <th>  LLR p-value:       </th>  <td>0.9893</td> \n",
       "</tr>\n",
       "</table>\n",
       "<table class=\"simpletable\">\n",
       "<tr>\n",
       "  <th>condition=1</th>    <th>coef</th>     <th>std err</th>      <th>z</th>      <th>P>|z|</th> <th>[95.0% Conf. Int.]</th> \n",
       "</tr>\n",
       "<tr>\n",
       "  <th>gre</th>         <td>   -0.0010</td> <td>    0.001</td> <td>   -0.693</td> <td> 0.488</td> <td>   -0.004     0.002</td>\n",
       "</tr>\n",
       "<tr>\n",
       "  <th>gpa</th>         <td>    0.1688</td> <td>    0.278</td> <td>    0.608</td> <td> 0.543</td> <td>   -0.375     0.713</td>\n",
       "</tr>\n",
       "<tr>\n",
       "  <th>prestige_2</th>  <td>    0.0058</td> <td>    0.454</td> <td>    0.013</td> <td> 0.990</td> <td>   -0.885     0.897</td>\n",
       "</tr>\n",
       "<tr>\n",
       "  <th>prestige_3</th>  <td>    0.0054</td> <td>    0.488</td> <td>    0.011</td> <td> 0.991</td> <td>   -0.951     0.962</td>\n",
       "</tr>\n",
       "<tr>\n",
       "  <th>prestige_4</th>  <td>    0.2274</td> <td>    0.526</td> <td>    0.433</td> <td> 0.665</td> <td>   -0.803     1.258</td>\n",
       "</tr>\n",
       "<tr>\n",
       "  <th>condition=2</th>    <th>coef</th>     <th>std err</th>      <th>z</th>      <th>P>|z|</th> <th>[95.0% Conf. Int.]</th> \n",
       "</tr>\n",
       "<tr>\n",
       "  <th>gre</th>         <td>   -0.0002</td> <td>    0.001</td> <td>   -0.168</td> <td> 0.866</td> <td>   -0.003     0.003</td>\n",
       "</tr>\n",
       "<tr>\n",
       "  <th>gpa</th>         <td>    0.0400</td> <td>    0.279</td> <td>    0.143</td> <td> 0.886</td> <td>   -0.507     0.587</td>\n",
       "</tr>\n",
       "<tr>\n",
       "  <th>prestige_2</th>  <td>    0.0457</td> <td>    0.450</td> <td>    0.102</td> <td> 0.919</td> <td>   -0.836     0.927</td>\n",
       "</tr>\n",
       "<tr>\n",
       "  <th>prestige_3</th>  <td>    0.0059</td> <td>    0.486</td> <td>    0.012</td> <td> 0.990</td> <td>   -0.947     0.958</td>\n",
       "</tr>\n",
       "<tr>\n",
       "  <th>prestige_4</th>  <td>    0.0095</td> <td>    0.537</td> <td>    0.018</td> <td> 0.986</td> <td>   -1.043     1.062</td>\n",
       "</tr>\n",
       "<tr>\n",
       "  <th>condition=3</th>    <th>coef</th>     <th>std err</th>      <th>z</th>      <th>P>|z|</th> <th>[95.0% Conf. Int.]</th> \n",
       "</tr>\n",
       "<tr>\n",
       "  <th>gre</th>         <td>   -0.0009</td> <td>    0.001</td> <td>   -0.615</td> <td> 0.538</td> <td>   -0.004     0.002</td>\n",
       "</tr>\n",
       "<tr>\n",
       "  <th>gpa</th>         <td>    0.1793</td> <td>    0.278</td> <td>    0.644</td> <td> 0.520</td> <td>   -0.366     0.725</td>\n",
       "</tr>\n",
       "<tr>\n",
       "  <th>prestige_2</th>  <td>   -0.1998</td> <td>    0.451</td> <td>   -0.443</td> <td> 0.658</td> <td>   -1.084     0.685</td>\n",
       "</tr>\n",
       "<tr>\n",
       "  <th>prestige_3</th>  <td>    0.1116</td> <td>    0.472</td> <td>    0.236</td> <td> 0.813</td> <td>   -0.814     1.037</td>\n",
       "</tr>\n",
       "<tr>\n",
       "  <th>prestige_4</th>  <td>   -0.1571</td> <td>    0.539</td> <td>   -0.291</td> <td> 0.771</td> <td>   -1.214     0.900</td>\n",
       "</tr>\n",
       "<tr>\n",
       "  <th>condition=4</th>    <th>coef</th>     <th>std err</th>      <th>z</th>      <th>P>|z|</th> <th>[95.0% Conf. Int.]</th> \n",
       "</tr>\n",
       "<tr>\n",
       "  <th>gre</th>         <td>    0.0008</td> <td>    0.001</td> <td>    0.562</td> <td> 0.574</td> <td>   -0.002     0.004</td>\n",
       "</tr>\n",
       "<tr>\n",
       "  <th>gpa</th>         <td>   -0.2379</td> <td>    0.283</td> <td>   -0.840</td> <td> 0.401</td> <td>   -0.793     0.317</td>\n",
       "</tr>\n",
       "<tr>\n",
       "  <th>prestige_2</th>  <td>    0.2997</td> <td>    0.474</td> <td>    0.632</td> <td> 0.527</td> <td>   -0.630     1.229</td>\n",
       "</tr>\n",
       "<tr>\n",
       "  <th>prestige_3</th>  <td>    0.5768</td> <td>    0.499</td> <td>    1.156</td> <td> 0.248</td> <td>   -0.402     1.555</td>\n",
       "</tr>\n",
       "<tr>\n",
       "  <th>prestige_4</th>  <td>    0.3096</td> <td>    0.556</td> <td>    0.556</td> <td> 0.578</td> <td>   -0.781     1.400</td>\n",
       "</tr>\n",
       "</table>"
      ],
      "text/plain": [
       "<class 'statsmodels.iolib.summary.Summary'>\n",
       "\"\"\"\n",
       "                          MNLogit Regression Results                          \n",
       "==============================================================================\n",
       "Dep. Variable:              condition   No. Observations:                  400\n",
       "Model:                        MNLogit   Df Residuals:                      380\n",
       "Method:                           MLE   Df Model:                           16\n",
       "Date:                Thu, 07 Apr 2016   Pseudo R-squ.:                0.004568\n",
       "Time:                        11:15:49   Log-Likelihood:                -640.83\n",
       "converged:                       True   LL-Null:                       -643.78\n",
       "                                        LLR p-value:                    0.9893\n",
       "===============================================================================\n",
       "condition=1       coef    std err          z      P>|z|      [95.0% Conf. Int.]\n",
       "-------------------------------------------------------------------------------\n",
       "gre            -0.0010      0.001     -0.693      0.488        -0.004     0.002\n",
       "gpa             0.1688      0.278      0.608      0.543        -0.375     0.713\n",
       "prestige_2      0.0058      0.454      0.013      0.990        -0.885     0.897\n",
       "prestige_3      0.0054      0.488      0.011      0.991        -0.951     0.962\n",
       "prestige_4      0.2274      0.526      0.433      0.665        -0.803     1.258\n",
       "-------------------------------------------------------------------------------\n",
       "condition=2       coef    std err          z      P>|z|      [95.0% Conf. Int.]\n",
       "-------------------------------------------------------------------------------\n",
       "gre            -0.0002      0.001     -0.168      0.866        -0.003     0.003\n",
       "gpa             0.0400      0.279      0.143      0.886        -0.507     0.587\n",
       "prestige_2      0.0457      0.450      0.102      0.919        -0.836     0.927\n",
       "prestige_3      0.0059      0.486      0.012      0.990        -0.947     0.958\n",
       "prestige_4      0.0095      0.537      0.018      0.986        -1.043     1.062\n",
       "-------------------------------------------------------------------------------\n",
       "condition=3       coef    std err          z      P>|z|      [95.0% Conf. Int.]\n",
       "-------------------------------------------------------------------------------\n",
       "gre            -0.0009      0.001     -0.615      0.538        -0.004     0.002\n",
       "gpa             0.1793      0.278      0.644      0.520        -0.366     0.725\n",
       "prestige_2     -0.1998      0.451     -0.443      0.658        -1.084     0.685\n",
       "prestige_3      0.1116      0.472      0.236      0.813        -0.814     1.037\n",
       "prestige_4     -0.1571      0.539     -0.291      0.771        -1.214     0.900\n",
       "-------------------------------------------------------------------------------\n",
       "condition=4       coef    std err          z      P>|z|      [95.0% Conf. Int.]\n",
       "-------------------------------------------------------------------------------\n",
       "gre             0.0008      0.001      0.562      0.574        -0.002     0.004\n",
       "gpa            -0.2379      0.283     -0.840      0.401        -0.793     0.317\n",
       "prestige_2      0.2997      0.474      0.632      0.527        -0.630     1.229\n",
       "prestige_3      0.5768      0.499      1.156      0.248        -0.402     1.555\n",
       "prestige_4      0.3096      0.556      0.556      0.578        -0.781     1.400\n",
       "===============================================================================\n",
       "\"\"\""
      ]
     },
     "execution_count": 45,
     "metadata": {},
     "output_type": "execute_result"
    }
   ],
   "source": [
    "# Multinomial Logit with statsmodels -- use when there are more than 2 conditions; works for logit, too :)\n",
    "mlogit = sm.MNLogit(data['condition'],data[train_cols])\n",
    "mresult = mlogit.fit()\n",
    "msummary = mresult.summary()\n",
    "msummary"
   ]
  },
  {
   "cell_type": "code",
   "execution_count": 46,
   "metadata": {
    "collapsed": false
   },
   "outputs": [
    {
     "data": {
      "text/html": [
       "<div>\n",
       "<table border=\"1\" class=\"dataframe\">\n",
       "  <thead>\n",
       "    <tr style=\"text-align: right;\">\n",
       "      <th></th>\n",
       "      <th>0</th>\n",
       "      <th>1</th>\n",
       "      <th>2</th>\n",
       "      <th>3</th>\n",
       "    </tr>\n",
       "  </thead>\n",
       "  <tbody>\n",
       "    <tr>\n",
       "      <th>gre</th>\n",
       "      <td>0.488177</td>\n",
       "      <td>0.866205</td>\n",
       "      <td>0.538252</td>\n",
       "      <td>0.574442</td>\n",
       "    </tr>\n",
       "    <tr>\n",
       "      <th>gpa</th>\n",
       "      <td>0.543008</td>\n",
       "      <td>0.885948</td>\n",
       "      <td>0.519571</td>\n",
       "      <td>0.401020</td>\n",
       "    </tr>\n",
       "    <tr>\n",
       "      <th>prestige_2</th>\n",
       "      <td>0.989741</td>\n",
       "      <td>0.919057</td>\n",
       "      <td>0.657908</td>\n",
       "      <td>0.527267</td>\n",
       "    </tr>\n",
       "    <tr>\n",
       "      <th>prestige_3</th>\n",
       "      <td>0.991225</td>\n",
       "      <td>0.990348</td>\n",
       "      <td>0.813154</td>\n",
       "      <td>0.247876</td>\n",
       "    </tr>\n",
       "    <tr>\n",
       "      <th>prestige_4</th>\n",
       "      <td>0.665294</td>\n",
       "      <td>0.985899</td>\n",
       "      <td>0.770831</td>\n",
       "      <td>0.577960</td>\n",
       "    </tr>\n",
       "  </tbody>\n",
       "</table>\n",
       "</div>"
      ],
      "text/plain": [
       "                   0         1         2         3\n",
       "gre         0.488177  0.866205  0.538252  0.574442\n",
       "gpa         0.543008  0.885948  0.519571  0.401020\n",
       "prestige_2  0.989741  0.919057  0.657908  0.527267\n",
       "prestige_3  0.991225  0.990348  0.813154  0.247876\n",
       "prestige_4  0.665294  0.985899  0.770831  0.577960"
      ]
     },
     "execution_count": 46,
     "metadata": {},
     "output_type": "execute_result"
    }
   ],
   "source": [
    "pVals = mresult.pvalues\n",
    "pVals\n",
    "#Columns are labeled by index which is confusion -- correspond to the (column# + 1) condition"
   ]
  },
  {
   "cell_type": "code",
   "execution_count": 47,
   "metadata": {
    "collapsed": false
   },
   "outputs": [],
   "source": [
    "pVals.columns = conditionCodes[1:] #Rename columns to correspond to conditions\n",
    "pVals=pVals.reset_index()\n",
    "pVals.rename(columns={'index':'variable'},inplace=True)"
   ]
  },
  {
   "cell_type": "code",
   "execution_count": 48,
   "metadata": {
    "collapsed": false
   },
   "outputs": [
    {
     "data": {
      "text/html": [
       "<div>\n",
       "<table border=\"1\" class=\"dataframe\">\n",
       "  <thead>\n",
       "    <tr style=\"text-align: right;\">\n",
       "      <th></th>\n",
       "      <th>variable</th>\n",
       "      <th>1</th>\n",
       "      <th>2</th>\n",
       "      <th>3</th>\n",
       "      <th>4</th>\n",
       "    </tr>\n",
       "  </thead>\n",
       "  <tbody>\n",
       "    <tr>\n",
       "      <th>0</th>\n",
       "      <td>gre</td>\n",
       "      <td>0.488177</td>\n",
       "      <td>0.866205</td>\n",
       "      <td>0.538252</td>\n",
       "      <td>0.574442</td>\n",
       "    </tr>\n",
       "    <tr>\n",
       "      <th>1</th>\n",
       "      <td>gpa</td>\n",
       "      <td>0.543008</td>\n",
       "      <td>0.885948</td>\n",
       "      <td>0.519571</td>\n",
       "      <td>0.401020</td>\n",
       "    </tr>\n",
       "    <tr>\n",
       "      <th>2</th>\n",
       "      <td>prestige_2</td>\n",
       "      <td>0.989741</td>\n",
       "      <td>0.919057</td>\n",
       "      <td>0.657908</td>\n",
       "      <td>0.527267</td>\n",
       "    </tr>\n",
       "    <tr>\n",
       "      <th>3</th>\n",
       "      <td>prestige_3</td>\n",
       "      <td>0.991225</td>\n",
       "      <td>0.990348</td>\n",
       "      <td>0.813154</td>\n",
       "      <td>0.247876</td>\n",
       "    </tr>\n",
       "    <tr>\n",
       "      <th>4</th>\n",
       "      <td>prestige_4</td>\n",
       "      <td>0.665294</td>\n",
       "      <td>0.985899</td>\n",
       "      <td>0.770831</td>\n",
       "      <td>0.577960</td>\n",
       "    </tr>\n",
       "  </tbody>\n",
       "</table>\n",
       "</div>"
      ],
      "text/plain": [
       "     variable         1         2         3         4\n",
       "0         gre  0.488177  0.866205  0.538252  0.574442\n",
       "1         gpa  0.543008  0.885948  0.519571  0.401020\n",
       "2  prestige_2  0.989741  0.919057  0.657908  0.527267\n",
       "3  prestige_3  0.991225  0.990348  0.813154  0.247876\n",
       "4  prestige_4  0.665294  0.985899  0.770831  0.577960"
      ]
     },
     "execution_count": 48,
     "metadata": {},
     "output_type": "execute_result"
    }
   ],
   "source": [
    "pVals"
   ]
  },
  {
   "cell_type": "code",
   "execution_count": 82,
   "metadata": {
    "collapsed": true
   },
   "outputs": [],
   "source": [
    "minPval = .25"
   ]
  },
  {
   "cell_type": "code",
   "execution_count": 84,
   "metadata": {
    "collapsed": false
   },
   "outputs": [
    {
     "ename": "Exception",
     "evalue": "P value for variable prestige_3 for condition 4 is less than 0.25",
     "output_type": "error",
     "traceback": [
      "\u001b[1;31m---------------------------------------------------------------------------\u001b[0m",
      "\u001b[1;31mException\u001b[0m                                 Traceback (most recent call last)",
      "\u001b[1;32m<ipython-input-84-441433309e03>\u001b[0m in \u001b[0;36m<module>\u001b[1;34m()\u001b[0m\n\u001b[0;32m      5\u001b[0m     \u001b[1;32mfor\u001b[0m \u001b[0mval\u001b[0m \u001b[1;32min\u001b[0m \u001b[0mrow\u001b[0m\u001b[1;33m[\u001b[0m\u001b[1;36m1\u001b[0m\u001b[1;33m:\u001b[0m\u001b[1;33m]\u001b[0m\u001b[1;33m:\u001b[0m\u001b[1;33m\u001b[0m\u001b[0m\n\u001b[0;32m      6\u001b[0m         \u001b[1;32mif\u001b[0m \u001b[0mval\u001b[0m \u001b[1;33m<=\u001b[0m \u001b[0mminPval\u001b[0m\u001b[1;33m:\u001b[0m\u001b[1;33m\u001b[0m\u001b[0m\n\u001b[1;32m----> 7\u001b[1;33m             \u001b[1;32mraise\u001b[0m \u001b[0mException\u001b[0m\u001b[1;33m(\u001b[0m\u001b[1;34m'P value for variable {} for condition {} is less than {}'\u001b[0m\u001b[1;33m.\u001b[0m\u001b[0mformat\u001b[0m\u001b[1;33m(\u001b[0m\u001b[0mrow_name\u001b[0m\u001b[1;33m,\u001b[0m \u001b[0mcount\u001b[0m\u001b[1;33m,\u001b[0m \u001b[0mminPval\u001b[0m\u001b[1;33m)\u001b[0m\u001b[1;33m)\u001b[0m\u001b[1;33m\u001b[0m\u001b[0m\n\u001b[0m\u001b[0;32m      8\u001b[0m         \u001b[0mcount\u001b[0m \u001b[1;33m+=\u001b[0m \u001b[1;36m1\u001b[0m\u001b[1;33m\u001b[0m\u001b[0m\n",
      "\u001b[1;31mException\u001b[0m: P value for variable prestige_3 for condition 4 is less than 0.25"
     ]
    }
   ],
   "source": [
    "#Sample syntax\n",
    "for index, row in pVals.iterrows():\n",
    "    row_name = row[0]\n",
    "    count = 1\n",
    "    for val in row[1:]:\n",
    "        if val <= minPval:\n",
    "            raise Exception('P value for variable {} for condition {} is less than {}.'.format(row_name, count, minPval))\n",
    "        count += 1"
   ]
  },
  {
   "cell_type": "code",
   "execution_count": 50,
   "metadata": {
    "collapsed": false
   },
   "outputs": [],
   "source": [
    "#Next: check in any values are <= .05; if they are - randomize again!"
   ]
  },
  {
   "cell_type": "code",
   "execution_count": 52,
   "metadata": {
    "collapsed": false
   },
   "outputs": [
    {
     "data": {
      "text/plain": [
       "<generator object iterrows at 0x7f1657cbeca8>"
      ]
     },
     "execution_count": 52,
     "metadata": {},
     "output_type": "execute_result"
    }
   ],
   "source": [
    "pVals.iterrows()"
   ]
  },
  {
   "cell_type": "code",
   "execution_count": null,
   "metadata": {
    "collapsed": true
   },
   "outputs": [],
   "source": []
  }
 ],
 "metadata": {
  "kernelspec": {
   "display_name": "Python 3",
   "language": "python",
   "name": "python3"
  },
  "language_info": {
   "codemirror_mode": {
    "name": "ipython",
    "version": 3
   },
   "file_extension": ".py",
   "mimetype": "text/x-python",
   "name": "python",
   "nbconvert_exporter": "python",
   "pygments_lexer": "ipython3",
   "version": "3.4.3"
  }
 },
 "nbformat": 4,
 "nbformat_minor": 0
}
